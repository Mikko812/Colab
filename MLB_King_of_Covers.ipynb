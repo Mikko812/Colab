{
  "nbformat": 4,
  "nbformat_minor": 0,
  "metadata": {
    "colab": {
      "name": "MLB King of Covers.ipynb",
      "provenance": [],
      "collapsed_sections": [],
      "authorship_tag": "ABX9TyMHppDNy9raBpbMvSQVoqbg",
      "include_colab_link": true
    },
    "kernelspec": {
      "name": "python3",
      "display_name": "Python 3"
    },
    "language_info": {
      "name": "python"
    }
  },
  "cells": [
    {
      "cell_type": "markdown",
      "metadata": {
        "id": "view-in-github",
        "colab_type": "text"
      },
      "source": [
        "<a href=\"https://colab.research.google.com/github/Mikko812/Colab/blob/master/MLB_King_of_Covers.ipynb\" target=\"_parent\"><img src=\"https://colab.research.google.com/assets/colab-badge.svg\" alt=\"Open In Colab\"/></a>"
      ]
    },
    {
      "cell_type": "code",
      "metadata": {
        "colab": {
          "base_uri": "https://localhost:8080/"
        },
        "id": "O0a7TunRrZfS",
        "outputId": "125da5cd-ae76-41a1-bf7e-c81f3679d957"
      },
      "source": [
        "from google.colab import drive\n",
        "drive.mount('/content/drive')"
      ],
      "execution_count": 1,
      "outputs": [
        {
          "output_type": "stream",
          "text": [
            "Mounted at /content/drive\n"
          ],
          "name": "stdout"
        }
      ]
    },
    {
      "cell_type": "code",
      "metadata": {
        "id": "SY9HznJ3rlxS"
      },
      "source": [
        "import requests\n",
        "from bs4 import BeautifulSoup\n",
        "import pandas as pd\n",
        "from datetime import datetime as dt\n",
        "from datetime import timedelta as td\n",
        "from google.colab import files\n",
        "import json\n",
        "import os\n",
        "#import numpy as np\n",
        "\n",
        "pd.set_option('display.max_rows', None) \n",
        "pd.set_option('max_colwidth', 220)\n",
        "pd.options.mode.chained_assignment = None\n",
        "headers = {'User-Agent': 'Mozilla/5.0 (Macintosh; Intel Mac OS X 10.9; rv:45.0) Gecko/20100101 Firefox/45.0'}\n",
        "path=\"/content/drive/My Drive/MLB. King of Covers/\"\n",
        "\n",
        "www='https://www.covers.com'\n",
        "www2='https://contests.covers.com'"
      ],
      "execution_count": 2,
      "outputs": []
    },
    {
      "cell_type": "code",
      "metadata": {
        "id": "Yur2_cyOrl3a"
      },
      "source": [
        "# Чтение таблицы\n",
        "def get_stats(link):\n",
        "  tab = pd.read_html(www2+link)\n",
        "  return [tab[0].loc[0,'Units'], tab[0].loc[1,'Units']]\n",
        "\n",
        "r=requests.get('https://contests.covers.com/kingofcovers/overallleaderboard/fullleaderboard/fe6d67c9-6939-4d84-8ca0-acd6010e9252?seasonPhase=RegularSeason', headers=headers)\n",
        "s=BeautifulSoup(r.text, 'html.parser')\n",
        "table=s.find_all('tr')\n",
        "cols=table[0].get_text().split('\\n')[1:-1]+['M/L Picks', 'O/U Picks']\n",
        "mlb_picks=pd.DataFrame(columns=cols, index=range(50))\n",
        "rows=[]\n",
        "for r in range(1,51):\n",
        "  row=table[r].get_text().split('\\n')\n",
        "  row=[x.replace('\\r','').strip() for x in row if x not in ['', '\\r']][:-1]\n",
        "  if row[-1]!='Pending':\n",
        "    row.append('View')\n",
        "    row.append('Not Pending')\n",
        "  profile_link=table[r].find_all('td')[-2].find('a').get('href')\n",
        "  row[-2]=profile_link\n",
        "  row += get_stats(profile_link)\n",
        "  mlb_picks.loc[r-1,:]=row\n",
        "mlb_picks\n",
        "pending=mlb_picks.query(\"Status!='Not Pending'\")['Profile']"
      ],
      "execution_count": null,
      "outputs": []
    },
    {
      "cell_type": "code",
      "metadata": {
        "id": "8DB7AxM9rmA2",
        "colab": {
          "base_uri": "https://localhost:8080/"
        },
        "outputId": "19dad60e-08b0-4c4f-d819-8e08a0557e89"
      },
      "source": [
        "# Создание и запись словаря\n",
        "def picks_stat(tmp):\n",
        "  lst=[x.split('  ') for x in tmp['Bets']]\n",
        "  lst=list(map(lambda x: x+[''] if len(x)==1  and ('-' in x[0] or '+' in x[0]) else x, lst))\n",
        "  lst=list(map(lambda x: ['']+x if len(x)==1  and '.' in x[0] else x, lst))\n",
        "  lst_teams=[x[0].split(' ')[0] for x in lst]\n",
        "  lst_teams=list(filter(lambda x: x!='', lst_teams))\n",
        "  lst_total=[x[1].split(' ')[0] for x in lst]\n",
        "  lst_total=list(filter(lambda x: x!='', lst_total))\n",
        "  t1=list(set(lst_teams))[0]\n",
        "  t2=list(set(lst_teams))[1]\n",
        "\n",
        "  print(f'{tmp.iloc[0,0]}. Всего: {len(tmp)}')\n",
        "  print(f\"Over: {lst_total.count('Over')}/{len(lst_total)}\")\n",
        "  print(f\"Under: {lst_total.count('Under')}/{len(lst_total)}\")\n",
        "\n",
        "  print(f\"{t1}: {lst_teams.count(t1)}/{len(lst_teams)}\")\n",
        "  print(f\"{t2}: {lst_teams.count(t2)}/{len(lst_teams)}\")\n",
        "  print()\n",
        "  tmp_dict={'Total': len(tmp),\n",
        "            'Over': round(lst_total.count('Over')/len(lst_total),2),\n",
        "            'Under': round(lst_total.count('Under')/len(lst_total),2),\n",
        "            t1: round(lst_teams.count(t1)/len(lst_teams),2),\n",
        "            t2: round(lst_teams.count(t2)/len(lst_teams),2)\n",
        "  }\n",
        "  return tmp_dict\n",
        "\n",
        "picks=[]\n",
        "today_picks=pd.DataFrame()\n",
        "for pend in pending:\n",
        "  tab = pd.read_html(www2+pend)\n",
        "  today_picks = today_picks.append(tab[1])\n",
        "today_picks=today_picks.drop([1,2,4,5], axis=1)\n",
        "today_picks.columns=['Teams','Bets']\n",
        "today_picks.head()\n",
        "teams=list(set(today_picks['Teams']))\n",
        "for t in teams:\n",
        "  d=picks_stat(today_picks[today_picks.Teams==t])\n",
        "  tt=t.replace('  ', ' at ')\n",
        "  picks.append({t: d})\n",
        "\n",
        "date=dt.now()\n",
        "date=dt.strftime(date, '%y-%m-%d')\n",
        "with open(path+f'KoC {date}.json', 'w') as f:\n",
        "  json.dump(picks, f)"
      ],
      "execution_count": null,
      "outputs": [
        {
          "output_type": "stream",
          "text": [
            "San Francisco  Philadelphia. Всего: 32\n",
            "Over: 7/15\n",
            "Under: 8/15\n",
            "PHI: 28/31\n",
            "SF: 3/31\n",
            "\n",
            "St. Louis  Washington. Всего: 33\n",
            "Over: 6/16\n",
            "Under: 10/16\n",
            "WAS: 24/31\n",
            "STL: 7/31\n",
            "\n",
            "LA Dodgers  Seattle. Всего: 31\n",
            "Over: 5/15\n",
            "Under: 10/15\n",
            "SEA: 25/30\n",
            "LAD: 5/30\n",
            "\n",
            "Tampa Bay  Kansas City. Всего: 24\n",
            "Over: 2/8\n",
            "Under: 6/8\n",
            "KC: 10/24\n",
            "TB: 14/24\n",
            "\n",
            "Texas  LA Angels. Всего: 21\n",
            "Over: 3/9\n",
            "Under: 6/9\n",
            "LAA: 1/20\n",
            "TEX: 19/20\n",
            "\n",
            "Milwaukee  San Diego. Всего: 31\n",
            "Over: 3/14\n",
            "Under: 11/14\n",
            "MIL: 22/30\n",
            "SD: 8/30\n",
            "\n",
            "Chi. White Sox  Boston. Всего: 29\n",
            "Over: 3/14\n",
            "Under: 11/14\n",
            "CHW: 4/28\n",
            "BOS: 24/28\n",
            "\n"
          ],
          "name": "stdout"
        }
      ]
    },
    {
      "cell_type": "code",
      "metadata": {
        "colab": {
          "base_uri": "https://localhost:8080/"
        },
        "id": "bxg_zr0L2-AC",
        "outputId": "2d63ffc0-9bed-4fb5-f44a-a5997592a781"
      },
      "source": [
        "picks"
      ],
      "execution_count": null,
      "outputs": [
        {
          "output_type": "execute_result",
          "data": {
            "text/plain": [
              "[{'San Francisco at Philadelphia': {'Over': 0.47,\n",
              "   'PHI': 0.9,\n",
              "   'SF': 0.1,\n",
              "   'Total': 32,\n",
              "   'Under': 0.53}},\n",
              " {'St. Louis at Washington': {'Over': 0.38,\n",
              "   'STL': 0.23,\n",
              "   'Total': 33,\n",
              "   'Under': 0.62,\n",
              "   'WAS': 0.77}},\n",
              " {'LA Dodgers at Seattle': {'LAD': 0.17,\n",
              "   'Over': 0.33,\n",
              "   'SEA': 0.83,\n",
              "   'Total': 31,\n",
              "   'Under': 0.67}},\n",
              " {'Tampa Bay at Kansas City': {'KC': 0.42,\n",
              "   'Over': 0.25,\n",
              "   'TB': 0.58,\n",
              "   'Total': 24,\n",
              "   'Under': 0.75}},\n",
              " {'Texas at LA Angels': {'LAA': 0.05,\n",
              "   'Over': 0.33,\n",
              "   'TEX': 0.95,\n",
              "   'Total': 21,\n",
              "   'Under': 0.67}},\n",
              " {'Milwaukee at San Diego': {'MIL': 0.73,\n",
              "   'Over': 0.21,\n",
              "   'SD': 0.27,\n",
              "   'Total': 31,\n",
              "   'Under': 0.79}},\n",
              " {'Chi. White Sox at Boston': {'BOS': 0.86,\n",
              "   'CHW': 0.14,\n",
              "   'Over': 0.21,\n",
              "   'Total': 29,\n",
              "   'Under': 0.79}}]"
            ]
          },
          "metadata": {
            "tags": []
          },
          "execution_count": 73
        }
      ]
    },
    {
      "cell_type": "markdown",
      "metadata": {
        "id": "fEx87U_tvPBh"
      },
      "source": [
        "# **АНАЛИЗ**"
      ]
    },
    {
      "cell_type": "code",
      "metadata": {
        "colab": {
          "base_uri": "https://localhost:8080/"
        },
        "id": "OmziSWBFKGKy",
        "outputId": "6c6f5a7d-0f05-4e7f-bbe8-a6c36e858a7d"
      },
      "source": [
        "files=os.listdir(path)\n",
        "files"
      ],
      "execution_count": 3,
      "outputs": [
        {
          "output_type": "execute_result",
          "data": {
            "text/plain": [
              "['KoC 21-04-18.json', 'KoC 21-04-19.json']"
            ]
          },
          "metadata": {
            "tags": []
          },
          "execution_count": 3
        }
      ]
    },
    {
      "cell_type": "code",
      "metadata": {
        "id": "47xwcasfsybt",
        "colab": {
          "base_uri": "https://localhost:8080/"
        },
        "outputId": "40ca5140-ec8a-47af-d88c-53e39d8ee55d"
      },
      "source": [
        "with open(path+files[-1]) as f:\n",
        "  tab=json.load(f)\n",
        "tab"
      ],
      "execution_count": 4,
      "outputs": [
        {
          "output_type": "execute_result",
          "data": {
            "text/plain": [
              "[{'San Francisco at Philadelphia': {'Over': 0.47,\n",
              "   'PHI': 0.9,\n",
              "   'SF': 0.1,\n",
              "   'Total': 32,\n",
              "   'Under': 0.53}},\n",
              " {'St. Louis at Washington': {'Over': 0.38,\n",
              "   'STL': 0.23,\n",
              "   'Total': 33,\n",
              "   'Under': 0.62,\n",
              "   'WAS': 0.77}},\n",
              " {'LA Dodgers at Seattle': {'LAD': 0.17,\n",
              "   'Over': 0.33,\n",
              "   'SEA': 0.83,\n",
              "   'Total': 31,\n",
              "   'Under': 0.67}},\n",
              " {'Tampa Bay at Kansas City': {'KC': 0.42,\n",
              "   'Over': 0.25,\n",
              "   'TB': 0.58,\n",
              "   'Total': 24,\n",
              "   'Under': 0.75}},\n",
              " {'Texas at LA Angels': {'LAA': 0.05,\n",
              "   'Over': 0.33,\n",
              "   'TEX': 0.95,\n",
              "   'Total': 21,\n",
              "   'Under': 0.67}},\n",
              " {'Milwaukee at San Diego': {'MIL': 0.73,\n",
              "   'Over': 0.21,\n",
              "   'SD': 0.27,\n",
              "   'Total': 31,\n",
              "   'Under': 0.79}},\n",
              " {'Chi. White Sox at Boston': {'BOS': 0.86,\n",
              "   'CHW': 0.14,\n",
              "   'Over': 0.21,\n",
              "   'Total': 29,\n",
              "   'Under': 0.79}}]"
            ]
          },
          "metadata": {
            "tags": []
          },
          "execution_count": 4
        }
      ]
    },
    {
      "cell_type": "code",
      "metadata": {
        "colab": {
          "base_uri": "https://localhost:8080/",
          "height": 329
        },
        "id": "J38CzmOaSiT_",
        "outputId": "ba38a8e2-dfcb-4220-c935-350991492efe"
      },
      "source": [
        "#Словарь {Матч: Тотал}\n",
        "games_date='20'+files[-1][4:-5]\n",
        "r=requests.get(f'https://www.covers.com/sports/mlb/matchups?selectedDate={games_date}', headers=headers)\n",
        "s=BeautifulSoup(r.text, 'html.parser')\n",
        "teams=s.find_all(class_='cmg_matchup_header_team_names')\n",
        "noplay=s.find_all(class_='cmg_game_time')\n",
        "teams=[x.get_text().replace('\\r\\n','').strip() for x in teams]\n",
        "bs=pd.read_html(f'https://www.covers.com/sports/mlb/matchups?selectedDate={games_date}')\n",
        "if len(noplay)>0:\n",
        "  teams=teams[:-len(noplay)]\n",
        "results={}\n",
        "for c in range(len(teams)):\n",
        "  if bs[c].loc[1,'R'] > bs[c].loc[0,'R']:\n",
        "    fav_dog='-'\n",
        "    if str(bs[c].loc[1,'ML'])[0]!='-':\n",
        "      fav_dog='+'\n",
        "    results[teams[c]]=[bs[c].loc[1,'Unnamed: 0'],  fav_dog, bs[c].loc[1,'R'] + bs[c].loc[0,'R'], bs[c].loc[1,'O/U']]\n",
        "  else:\n",
        "    fav_dog='-'\n",
        "    if str(bs[c].loc[0,'ML'])[0]!='-':\n",
        "      fav_dog='+'\n",
        "    results[teams[c]]=[bs[c].loc[0,'Unnamed: 0'], fav_dog, bs[c].loc[1,'R'] + bs[c].loc[0,'R'], bs[c].loc[1,'O/U']]\n",
        "display(results)\n",
        "print()\n",
        "\n",
        "# Подводим результаты picks\n",
        "total_wins=0\n",
        "winner_wins=0\n",
        "picks_result={}\n",
        "for d in tab:\n",
        "  key=list(d.keys())[0]\n",
        "  winner=results[key][0]\n",
        "  if results[key][2] > results[key][3]:\n",
        "    picks_result[key]={'winner': [d[key][winner], results[key][1]], 'Over': d[key]['Over']}\n",
        "    if d[key]['Over'] > 0.5:\n",
        "      total_wins += 1\n",
        "    if d[key][winner] > 0.5:\n",
        "      winner_wins += 1\n",
        "  else:\n",
        "    picks_result[key]={'winner': [d[key][winner], results[key][1]], 'Under': d[key]['Under']}\n",
        "    if d[key]['Under'] > 0.5:\n",
        "      total_wins += 1\n",
        "    if d[key][winner] > 0.5:\n",
        "      winner_wins += 1\n",
        "print(f'ML: верных - {winner_wins} из {len(picks_result)}')\n",
        "print(f'OU: верных - {total_wins} из {len(picks_result)}')\n",
        "display(picks_result)"
      ],
      "execution_count": 11,
      "outputs": [
        {
          "output_type": "display_data",
          "data": {
            "text/plain": [
              "{'Chi. White Sox at Boston': ['BOS', '+', 15, 7.5],\n",
              " 'LA Dodgers at Seattle': ['SEA', '+', 7, 8.5],\n",
              " 'Milwaukee at San Diego': ['MIL', '+', 4, 6.5],\n",
              " 'San Francisco at Philadelphia': ['SF', '-', 2, 8.5],\n",
              " 'St. Louis at Washington': ['STL', '-', 17, 8.0],\n",
              " 'Tampa Bay at Kansas City': ['TB', '-', 5, 7.5],\n",
              " 'Texas at LA Angels': ['TEX', '+', 10, 8.5]}"
            ]
          },
          "metadata": {
            "tags": []
          }
        },
        {
          "output_type": "stream",
          "text": [
            "\n",
            "ML: верных - 5 из 7\n",
            "OU: верных - 4 из 7\n"
          ],
          "name": "stdout"
        },
        {
          "output_type": "display_data",
          "data": {
            "text/plain": [
              "{'Chi. White Sox at Boston': {'Over': 0.21, 'winner': [0.86, '+']},\n",
              " 'LA Dodgers at Seattle': {'Under': 0.67, 'winner': [0.83, '+']},\n",
              " 'Milwaukee at San Diego': {'Under': 0.79, 'winner': [0.73, '+']},\n",
              " 'San Francisco at Philadelphia': {'Under': 0.53, 'winner': [0.1, '-']},\n",
              " 'St. Louis at Washington': {'Over': 0.38, 'winner': [0.23, '-']},\n",
              " 'Tampa Bay at Kansas City': {'Under': 0.75, 'winner': [0.58, '-']},\n",
              " 'Texas at LA Angels': {'Over': 0.33, 'winner': [0.95, '+']}}"
            ]
          },
          "metadata": {
            "tags": []
          }
        }
      ]
    },
    {
      "cell_type": "code",
      "metadata": {
        "colab": {
          "base_uri": "https://localhost:8080/",
          "height": 314
        },
        "id": "TrhcxzbtUxLg",
        "outputId": "1b6e6082-4f3f-4ad8-b98f-6f4ce9925b57"
      },
      "source": [
        "# Подводим результаты picks\n",
        "total_wins=0\n",
        "winner_wins=0\n",
        "picks_result={}\n",
        "for d in tab:\n",
        "  key=list(d.keys())[0]\n",
        "  winner=results[key][0]\n",
        "  if results[key][2] > results[key][3]:\n",
        "    picks_result[key]={'winner': d[key][winner], 'Over': d[key]['Over']}\n",
        "    if d[key]['Over'] > 0.5:\n",
        "      total_wins += 1\n",
        "    if d[key][winner] > 0.5:\n",
        "      winner_wins += 1\n",
        "  else:\n",
        "    picks_result[key]={'winner': d[key][winner], 'Under': d[key]['Under']}\n",
        "    if d[key]['Under'] > 0.5:\n",
        "      total_wins += 1\n",
        "    if d[key][winner] > 0.5:\n",
        "      winner_wins += 1\n",
        "display(total_wins, winner_wins, picks_result)"
      ],
      "execution_count": null,
      "outputs": [
        {
          "output_type": "display_data",
          "data": {
            "text/plain": [
              "10"
            ]
          },
          "metadata": {
            "tags": []
          }
        },
        {
          "output_type": "display_data",
          "data": {
            "text/plain": [
              "8"
            ]
          },
          "metadata": {
            "tags": []
          }
        },
        {
          "output_type": "display_data",
          "data": {
            "text/plain": [
              "{'Arizona at Washington': {'Under': 0.56, 'winner': 0.71},\n",
              " 'Atlanta at Chi. Cubs': {'Over': 0.2, 'winner': 0.8},\n",
              " 'Baltimore at Texas': {'Under': 0.67, 'winner': 0.67},\n",
              " 'Chi. White Sox at Boston': {'Under': 0.54, 'winner': 0.47},\n",
              " 'Cleveland at Cincinnati': {'Over': 0.36, 'winner': 0.37},\n",
              " 'Detroit at Oakland': {'Under': 0.77, 'winner': 0.33},\n",
              " 'Houston at Seattle': {'Under': 0.69, 'winner': 0.65},\n",
              " 'LA Dodgers at San Diego': {'Under': 0.62, 'winner': 0.75},\n",
              " 'NY Mets at Colorado': {'Under': 0.27, 'winner': 0.19},\n",
              " 'Pittsburgh at Milwaukee': {'Over': 0.6, 'winner': 0.61},\n",
              " 'San Francisco at Miami': {'Under': 0.64, 'winner': 0.7},\n",
              " 'St. Louis at Philadelphia': {'Under': 0.64, 'winner': 0.25},\n",
              " 'Tampa Bay at NY Yankees': {'Under': 0.54, 'winner': 0.67},\n",
              " 'Toronto at Kansas City': {'Under': 0.5, 'winner': 0.41}}"
            ]
          },
          "metadata": {
            "tags": []
          }
        }
      ]
    },
    {
      "cell_type": "code",
      "metadata": {
        "colab": {
          "base_uri": "https://localhost:8080/"
        },
        "id": "5qjbrREbp88G",
        "outputId": "b2ce4b07-2f23-4b5b-ddb5-c4be4e6ff37c"
      },
      "source": [
        "d[key]['PHI']"
      ],
      "execution_count": null,
      "outputs": [
        {
          "output_type": "execute_result",
          "data": {
            "text/plain": [
              "0.25"
            ]
          },
          "metadata": {
            "tags": []
          },
          "execution_count": 46
        }
      ]
    },
    {
      "cell_type": "code",
      "metadata": {
        "id": "ezHn3XpksyhL"
      },
      "source": [
        "tmp=today_picks[today_picks.Teams=='Baltimore  Texas']\n",
        "lst=[x.split('  ') for x in tmp['Bets']]\n",
        "lst=list(map(lambda x: x+[''] if len(x)==1  and ('-' in x[0] or '+' in x[0]) else x, lst))\n",
        "lst=list(map(lambda x: ['']+x if len(x)==1  and '.' in x[0] else x, lst))\n",
        "lst_teams=[x[0].split(' ')[0] for x in lst]\n",
        "lst_teams=list(filter(lambda x: x!='', lst_teams))\n",
        "lst_total=[x[1].split(' ')[0] for x in lst]\n",
        "lst_total=list(filter(lambda x: x!='', lst_total))\n",
        "t1=list(set(lst_teams))[0]\n",
        "t2=list(set(lst_teams))[1]\n",
        "\n",
        "print(f'{tmp.iloc[0,0]}. Всего: {len(tmp)}')\n",
        "print(f\"Over: {lst_total.count('Over')}/{len(lst_total)}\")\n",
        "print(f\"Under: {lst_total.count('Under')}/{len(lst_total)}\")\n",
        "\n",
        "print(f\"{t1}: {lst_teams.count(t1)}/{len(lst_teams)}\")\n",
        "print(f\"{t2}: {lst_teams.count(t2)}/{len(lst_teams)}\")"
      ],
      "execution_count": null,
      "outputs": []
    }
  ]
}