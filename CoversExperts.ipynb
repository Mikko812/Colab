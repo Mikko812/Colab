{
  "nbformat": 4,
  "nbformat_minor": 0,
  "metadata": {
    "colab": {
      "name": "CoversExperts.ipynb",
      "provenance": [],
      "collapsed_sections": []
    },
    "kernelspec": {
      "name": "python3",
      "display_name": "Python 3"
    }
  },
  "cells": [
    {
      "cell_type": "code",
      "metadata": {
        "id": "0cYDQpL_f8pi",
        "colab": {
          "base_uri": "https://localhost:8080/"
        },
        "outputId": "dc6c47d3-179d-4917-86b3-0ee448dcaae3"
      },
      "source": [
        "# Load the Drive helper and mount\n",
        "from google.colab import drive\n",
        "\n",
        "# This will prompt for authorization.\n",
        "drive.mount('/content/drive')\n",
        "#!ls \"/content/drive/My Drive/Covers\""
      ],
      "execution_count": null,
      "outputs": [
        {
          "output_type": "stream",
          "text": [
            "Mounted at /content/drive\n"
          ],
          "name": "stdout"
        }
      ]
    },
    {
      "cell_type": "code",
      "metadata": {
        "id": "_GLA29E8BIGH",
        "colab": {
          "base_uri": "https://localhost:8080/",
          "height": 35
        },
        "outputId": "294dbbd9-a51a-4c0f-8a41-6566355a62bb"
      },
      "source": [
        "!python3 --version"
      ],
      "execution_count": null,
      "outputs": [
        {
          "output_type": "stream",
          "text": [
            "Python 3.6.9\n"
          ],
          "name": "stdout"
        }
      ]
    },
    {
      "cell_type": "code",
      "metadata": {
        "id": "A0EZgQIfLbKC"
      },
      "source": [
        "import requests\n",
        "from bs4 import BeautifulSoup\n",
        "import time\n",
        "import pandas as pd\n",
        "from datetime import datetime as dt\n",
        "from datetime import timedelta as td\n",
        "import os\n",
        "import numpy as np\n",
        "import matplotlib.pyplot as plt\n",
        "%matplotlib inline\n",
        "pd.set_option('display.max_columns', None) \n",
        "pd.set_option('display.max_rows', None) \n",
        "pd.set_option('display.max_colwidth', 200) \n",
        "path='drive/My Drive/Covers/'\n",
        "path_res='drive/My Drive/Results/'\n",
        "www='https://experts.covers.com'\n",
        "headers = {'User-Agent': 'Mozilla/5.0 (Macintosh; Intel Mac OS X 10.9; rv:45.0) Gecko/20100101 Firefox/45.0'}\n",
        "r = requests.get('https://experts.covers.com/handicappers', headers=headers)\n",
        "soup = BeautifulSoup(r.text, 'html.parser')\n",
        "\n",
        "cappers1={'Soccer Authority': 'https://experts.covers.com/Handicapper/Soccer_Authority',\n",
        " 'Jockey Club': 'https://experts.covers.com/handicapper/jockey_club',\n",
        " 'Best Fight Picks':'https://experts.covers.com/handicapper/best_fight_picks',\n",
        " 'Auto Racing Advisor': 'https://experts.covers.com/Handicapper/Auto_Racing_Advisor',\n",
        " 'Tennis Insiders': 'https://experts.covers.com/Handicapper/Tennis_Insiders',\n",
        " 'Golf Forecaster': 'https://experts.covers.com/Handicapper/Golf_Forecaster',\n",
        " 'Lee Sterling':'https://experts.covers.com/handicapper/lee_sterling',\n",
        " 'Anthony Stalter':'https://experts.covers.com/handicapper/anthony_stalter',\n",
        " 'Brad Feinberg':'https://experts.covers.com/handicapper/brad_feinberg',\n",
        " 'Alex B Smith':'https://experts.covers.com/handicapper/alex_b_smith',\n",
        " 'Paul Bovi':'https://experts.covers.com/handicapper/paul_bovi'\n",
        " }\n",
        "\n",
        "cappers={'AAA Sports': 'https://experts.covers.com/Handicapper/aaa_sports',\n",
        " 'Al McMordie': 'https://experts.covers.com/Handicapper/Al_McMordie',\n",
        " 'American Sports Analysts': 'https://experts.covers.com/Handicapper/American_Sports_Analysts',\n",
        " 'Auto Racing Advisor': 'https://experts.covers.com/Handicapper/Auto_Racing_Advisor',\n",
        " 'Ben Burns': 'https://experts.covers.com/Handicapper/Ben_Burns',\n",
        " 'Dan Kaiser': 'https://experts.covers.com/Handicapper/Dan_Kaiser',\n",
        " 'Forum Legends': 'https://experts.covers.com/Handicapper/Forum_Legends',\n",
        " 'Golf Forecaster': 'https://experts.covers.com/Handicapper/Golf_Forecaster',\n",
        " 'Jesse Schule': 'https://experts.covers.com/Handicapper/Jesse_Schule',\n",
        " 'Jockey Club': 'https://experts.covers.com/handicapper/jockey_club',\n",
        " 'Larry Ness': 'https://experts.covers.com/Handicapper/Larry_Ness',\n",
        " 'Lee Sterling':'https://experts.covers.com/handicapper/lee_sterling',\n",
        " 'Marc Lawrence': 'https://experts.covers.com/Handicapper/Marc_Lawrence',\n",
        " 'Matt Fargo': 'https://experts.covers.com/Handicapper/Matt_Fargo',\n",
        " 'Mike Lundin': 'https://experts.covers.com/Handicapper/Mike_Lundin',\n",
        " 'Power Sports': 'https://experts.covers.com/Handicapper/Power_Sports',\n",
        " 'Ricky Tran': 'https://experts.covers.com/Handicapper/Ricky_Tran',\n",
        " 'Scott Rickenbach': 'https://experts.covers.com/Handicapper/Scott_Rickenbach',\n",
        " 'Soccer Authority': 'https://experts.covers.com/Handicapper/Soccer_Authority',\n",
        " 'Sportspicker AI': 'https://experts.covers.com/Handicapper/Sportspicker_AI',\n",
        " 'Spread Knowledge': 'https://experts.covers.com/Handicapper/Spread_Knowledge',\n",
        " 'Tennis Insiders': 'https://experts.covers.com/Handicapper/Tennis_Insiders',\n",
        " 'Teddy Covers': 'https://experts.covers.com/Handicapper/Teddy_Covers',\n",
        " 'Tim Michael': 'https://experts.covers.com/Handicapper/Tim_Michael',\n",
        " 'Will Rogers': 'https://experts.covers.com/Handicapper/Will_Rogers',\n",
        " 'Anthony Stalter':'https://experts.covers.com/handicapper/anthony_stalter',\n",
        " 'Brad Feinberg':'https://experts.covers.com/handicapper/brad_feinberg',\n",
        " 'Alex B Smith':'https://experts.covers.com/handicapper/alex_b_smith',\n",
        " 'Paul Bovi':'https://experts.covers.com/handicapper/paul_bovi',\n",
        " 'Jazz Ray':'https://experts.covers.com/handicapper/jazz_ray'\n",
        " }\n",
        "\n",
        "cols=['WTA','NCAAF','NBA','MLB','NHL','ATP','NFL','NCAAB','WNBA','Bundesliga','Champions League','Premier League','Serie A','MLS','Coupe de la Liga','Ligue 1','CFL','E-Sports','Horse Racing','Copa America','Nascar','AAF','Indycar','PGA',\n",
        "       'Formula One','Africa Cup of Nations','International Friendly','UFC']"
      ],
      "execution_count": null,
      "outputs": []
    },
    {
      "cell_type": "code",
      "metadata": {
        "id": "1MtuinHOLipy",
        "colab": {
          "base_uri": "https://localhost:8080/"
        },
        "outputId": "61c0b7a6-75ef-4fbc-e9b8-220335045d4e"
      },
      "source": [
        "#Обновление\n",
        "def FillDF(r):\n",
        "  if '-' in str(r['UNITS']):\n",
        "    r['W/L']='L'\n",
        "  r['UNITS']=int(str(r['UNITS']).replace('$','').replace(',',''))\n",
        "  if r['PICK'].split(' ')[0] not in ['Over','Under']:\n",
        "    pick1=r['PICK'].split(' vs. ')[0]\n",
        "    if pick1!=r['PICK']:\n",
        "      pick2=r['PICK'].split(' vs. ')[1]\n",
        "      if pick2 in pick1:\n",
        "        r['PICK']=pick2\n",
        "      else:\n",
        "        pick1=pick1.split(' ')\n",
        "        if len(pick1)>2:\n",
        "          r['PICK']=' '.join(pick1[:int(len(pick1)/2)])\n",
        "        else:\n",
        "          r['PICK']=pick1[0]\n",
        "\n",
        "  return r\n",
        "\n",
        "\n",
        "dd=dt.now()\n",
        "dd-=td(days=1)\n",
        "dat=dd.strftime('%y.%m.%d')\n",
        "dat_bet=dd.strftime('%b %d')\n",
        "if dat_bet[-2]=='0':\n",
        "  dat_bet=dat_bet.replace('0','')\n",
        "#dat='20.09.01'\n",
        "print(dat)\n",
        "for capper,link in list(cappers.items()):\n",
        "  link=link.lower()\n",
        "  i=0\n",
        "  cap=pd.read_html(link)[0]\n",
        "  while len(cap)!=10:\n",
        "    i+=1\n",
        "    cap=pd.read_html(link)[i]\n",
        "\n",
        "  try:\n",
        "    if cap.loc[0,'Date']==dat_bet:\n",
        "      cap=cap[cap['Date']==dat_bet]\n",
        "      cap.columns=['Capper','Date','League','UNITS','PICK']\n",
        "      cap['Capper']=[capper]*len(cap)\n",
        "      cap['Date']=[dat]*len(cap)\n",
        "      cap.insert(2,'W/L','W')\n",
        "      cap=cap.apply(FillDF,axis=1)\n",
        "      cap=cap[['Capper','Date','W/L','League','PICK','UNITS']]\n",
        "      cap['PICK']=list(map(lambda x: x.replace('\\xe9',''),cap['PICK']))\n",
        "      cap['PICK']=list(map(lambda x: x.replace('\\xe1',''),cap['PICK']))\n",
        "      cap.to_csv(path+capper+'.csv',mode='a',encoding=\"cp1251\",index=False,header=False)\n",
        "      print(capper)\n",
        "      time.sleep(11)\n",
        "  except KeyError:\n",
        "    print()\n",
        "    print('!!ERROR!!',capper)\n",
        "    print()\n",
        "print('ГОТОВО')"
      ],
      "execution_count": null,
      "outputs": [
        {
          "output_type": "stream",
          "text": [
            "20.11.22\n",
            "AAA Sports\n",
            "Al McMordie\n",
            "American Sports Analysts\n",
            "Ben Burns\n",
            "Dan Kaiser\n",
            "Forum Legends\n",
            "Jesse Schule\n",
            "Larry Ness\n",
            "Lee Sterling\n",
            "Marc Lawrence\n",
            "Matt Fargo\n",
            "Mike Lundin\n",
            "Power Sports\n",
            "Ricky Tran\n",
            "Scott Rickenbach\n",
            "Soccer Authority\n",
            "Sportspicker AI\n",
            "Spread Knowledge\n",
            "Tennis Insiders\n",
            "Teddy Covers\n",
            "Tim Michael\n",
            "Will Rogers\n",
            "Anthony Stalter\n",
            "Brad Feinberg\n",
            "Alex B Smith\n",
            "Paul Bovi\n",
            "Jazz Ray\n",
            "ГОТОВО\n"
          ],
          "name": "stdout"
        }
      ]
    },
    {
      "cell_type": "code",
      "metadata": {
        "id": "ocavtGZRxO46"
      },
      "source": [
        "cap['PICK']=list(map(lambda x: x.replace('\\xe9',''),cap['PICK']))\n",
        "cap.to_csv(path+capper+'.csv',mode='a',encoding=\"cp1251\",index=False,header=False)"
      ],
      "execution_count": null,
      "outputs": []
    },
    {
      "cell_type": "code",
      "metadata": {
        "id": "GZ9ig9dtitvZ"
      },
      "source": [
        "#УДАЛЯЕМ ДУБЛИКАТЫ\n",
        "list_cappers=os.listdir(path)\n",
        "for pf in list_cappers:\n",
        "  if 'csv' in pf:\n",
        "    try:\n",
        "      pp=pd.read_csv(path+pf)\n",
        "      pp=pp.drop_duplicates()\n",
        "      pp.to_csv(path+pf,index=False)\n",
        "    except:\n",
        "      print(f'!! {pf} !!')\n"
      ],
      "execution_count": null,
      "outputs": []
    },
    {
      "cell_type": "code",
      "metadata": {
        "id": "2vU1HtNuRhL_"
      },
      "source": [
        "#обновление всех капперов из csv-файлов\n",
        "all_cappers=pd.DataFrame(columns=['Capper','DATE','W/L','League','PICK','UNITS'])\n",
        "for capper in cappers.keys():\n",
        "  filename=capper+'.csv'\n",
        "  try:\n",
        "    cap=pd.read_csv(path+filename)\n",
        "    all_cappers=all_cappers.append(cap)\n",
        "  except:\n",
        "    pass\n",
        "all_cappers.to_csv(path+'all_cappers.csv',encoding=\"cp1251\",index=False)\n",
        "#all_cappers"
      ],
      "execution_count": null,
      "outputs": []
    },
    {
      "cell_type": "code",
      "metadata": {
        "id": "-VP_pybzhFUp",
        "colab": {
          "base_uri": "https://localhost:8080/"
        },
        "outputId": "70817dbb-09a9-4ccf-d129-c92f3353db27"
      },
      "source": [
        "#Заработок на дату ...\n",
        "\n",
        "caps_day={}\n",
        "for capper in cappers.keys():\n",
        "  filename=capper+'.csv'\n",
        "  cap=pd.read_csv(path+filename)\n",
        "  ligi=cap.groupby(by='League')['UNITS'].sum().index\n",
        "  caps_day[capper]=cap.query(\"DATE=='{}'\".format(dat))['UNITS'].sum()\n",
        "list_caps=list(caps_day.items())\n",
        "list_caps.sort(key=lambda x: x[1],reverse=True)\n",
        "for el in list_caps:\n",
        "    print('Day wager {}: '.format(el[0]),el[1])\n",
        "\n",
        "\n",
        "#for el in ligi:\n",
        "#  print(el,AAA_S[AAA_S['League']=='{}'.format(el)]['UNITS'].sum())\n",
        "#display(AAA_S[AAA_S['League']=='{}'.format(el)],AAA_S[AAA_S['League']=='{}'.format(el)]['UNITS'].sum())"
      ],
      "execution_count": null,
      "outputs": [
        {
          "output_type": "stream",
          "text": [
            "Day wager Mike Lundin:  2200\n",
            "Day wager Brad Feinberg:  1355\n",
            "Day wager Soccer Authority:  1000\n",
            "Day wager Tennis Insiders:  800\n",
            "Day wager Al McMordie:  793\n",
            "Day wager Paul Bovi:  147\n",
            "Day wager American Sports Analysts:  19\n",
            "Day wager Auto Racing Advisor:  0\n",
            "Day wager Golf Forecaster:  0\n",
            "Day wager Jockey Club:  0\n",
            "Day wager Jazz Ray:  -375\n",
            "Day wager Jesse Schule:  -415\n",
            "Day wager Power Sports:  -450\n",
            "Day wager Alex B Smith:  -830\n",
            "Day wager Scott Rickenbach:  -1062\n",
            "Day wager Teddy Covers:  -1080\n",
            "Day wager Matt Fargo:  -1090\n",
            "Day wager Marc Lawrence:  -1170\n",
            "Day wager Will Rogers:  -1216\n",
            "Day wager Lee Sterling:  -1229\n",
            "Day wager Dan Kaiser:  -1272\n",
            "Day wager Ben Burns:  -1410\n",
            "Day wager Spread Knowledge:  -1526\n",
            "Day wager Anthony Stalter:  -1800\n",
            "Day wager Forum Legends:  -1874\n",
            "Day wager Ricky Tran:  -2044\n",
            "Day wager Sportspicker AI:  -2933\n",
            "Day wager Larry Ness:  -3144\n",
            "Day wager Tim Michael:  -3348\n",
            "Day wager AAA Sports:  -4529\n"
          ],
          "name": "stdout"
        }
      ]
    },
    {
      "cell_type": "code",
      "metadata": {
        "id": "Ylo4nOXdE87v",
        "colab": {
          "base_uri": "https://localhost:8080/",
          "height": 391
        },
        "outputId": "160f5759-6347-44bc-b2b1-6d2a2b7d5196"
      },
      "source": [
        "#ПОИСК РЕЗУЛЬТАТОВ ПОСЛЕ ПРОИГРЫША\n",
        "def correct(row):\n",
        "  row['DATE']=row['DATE'].replace('.','-')\n",
        "  if 'Under' in row['PICK'] or 'Over' in row['PICK']:\n",
        "    row['PICK']=float('nan')\n",
        "  return row\n",
        "\n",
        "liga='MLB'\n",
        "filename='AAA Sports.csv'\n",
        "cap=pd.read_csv(path+filename)\n",
        "cap.columns=['Capper','DATE','WL','League','PICK','UNITS']\n",
        "cap=cap.apply(correct,axis=1)\n",
        "cap=cap.query(f\"DATE>'19-11-23' & WL=='L' & League=='{liga}'\").reset_index(drop=True)\n",
        "start_date=cap.loc[0,'DATE']+'.csv'\n",
        "list_res=os.listdir(path_res)\n",
        "list_res.sort()\n",
        "pos=list_res.index(start_date)\n",
        "list_res=list_res[pos+1:]\n",
        "#display(list_res)\n",
        "all_res=pd.DataFrame(columns=['Date','League','Matchup','Teams','Total','Winner'])\n",
        "for f in list_res:\n",
        "  tmp=pd.read_csv(path_res+f,header=0)\n",
        "  all_res=all_res.append(tmp,sort=False)\n",
        "all_res=all_res.query(f\"League=='{liga}'\")\n",
        "cap.dropna(inplace=True)\n",
        "cap.reset_index(drop=True,inplace=True)\n",
        "display(cap.head(),all_res.head())"
      ],
      "execution_count": null,
      "outputs": [
        {
          "output_type": "display_data",
          "data": {
            "text/html": [
              "<div>\n",
              "<style scoped>\n",
              "    .dataframe tbody tr th:only-of-type {\n",
              "        vertical-align: middle;\n",
              "    }\n",
              "\n",
              "    .dataframe tbody tr th {\n",
              "        vertical-align: top;\n",
              "    }\n",
              "\n",
              "    .dataframe thead th {\n",
              "        text-align: right;\n",
              "    }\n",
              "</style>\n",
              "<table border=\"1\" class=\"dataframe\">\n",
              "  <thead>\n",
              "    <tr style=\"text-align: right;\">\n",
              "      <th></th>\n",
              "      <th>Capper</th>\n",
              "      <th>DATE</th>\n",
              "      <th>WL</th>\n",
              "      <th>League</th>\n",
              "      <th>PICK</th>\n",
              "      <th>UNITS</th>\n",
              "    </tr>\n",
              "  </thead>\n",
              "  <tbody>\n",
              "    <tr>\n",
              "      <th>0</th>\n",
              "      <td>AAA Sports</td>\n",
              "      <td>20-07-26</td>\n",
              "      <td>L</td>\n",
              "      <td>MLB</td>\n",
              "      <td>Texas</td>\n",
              "      <td>-1120</td>\n",
              "    </tr>\n",
              "    <tr>\n",
              "      <th>1</th>\n",
              "      <td>AAA Sports</td>\n",
              "      <td>20-07-26</td>\n",
              "      <td>L</td>\n",
              "      <td>MLB</td>\n",
              "      <td>St. Louis</td>\n",
              "      <td>-1288</td>\n",
              "    </tr>\n",
              "    <tr>\n",
              "      <th>2</th>\n",
              "      <td>AAA Sports</td>\n",
              "      <td>20-07-26</td>\n",
              "      <td>L</td>\n",
              "      <td>MLB</td>\n",
              "      <td>Houston</td>\n",
              "      <td>-1256</td>\n",
              "    </tr>\n",
              "    <tr>\n",
              "      <th>3</th>\n",
              "      <td>AAA Sports</td>\n",
              "      <td>20-07-27</td>\n",
              "      <td>L</td>\n",
              "      <td>MLB</td>\n",
              "      <td>Detroit</td>\n",
              "      <td>-1300</td>\n",
              "    </tr>\n",
              "    <tr>\n",
              "      <th>4</th>\n",
              "      <td>AAA Sports</td>\n",
              "      <td>20-07-28</td>\n",
              "      <td>L</td>\n",
              "      <td>MLB</td>\n",
              "      <td>Milwaukee</td>\n",
              "      <td>-1500</td>\n",
              "    </tr>\n",
              "  </tbody>\n",
              "</table>\n",
              "</div>"
            ],
            "text/plain": [
              "       Capper      DATE WL League       PICK  UNITS\n",
              "0  AAA Sports  20-07-26  L    MLB      Texas  -1120\n",
              "1  AAA Sports  20-07-26  L    MLB  St. Louis  -1288\n",
              "2  AAA Sports  20-07-26  L    MLB    Houston  -1256\n",
              "3  AAA Sports  20-07-27  L    MLB    Detroit  -1300\n",
              "4  AAA Sports  20-07-28  L    MLB  Milwaukee  -1500"
            ]
          },
          "metadata": {
            "tags": []
          }
        },
        {
          "output_type": "display_data",
          "data": {
            "text/html": [
              "<div>\n",
              "<style scoped>\n",
              "    .dataframe tbody tr th:only-of-type {\n",
              "        vertical-align: middle;\n",
              "    }\n",
              "\n",
              "    .dataframe tbody tr th {\n",
              "        vertical-align: top;\n",
              "    }\n",
              "\n",
              "    .dataframe thead th {\n",
              "        text-align: right;\n",
              "    }\n",
              "</style>\n",
              "<table border=\"1\" class=\"dataframe\">\n",
              "  <thead>\n",
              "    <tr style=\"text-align: right;\">\n",
              "      <th></th>\n",
              "      <th>Date</th>\n",
              "      <th>League</th>\n",
              "      <th>Matchup</th>\n",
              "      <th>Teams</th>\n",
              "      <th>Total</th>\n",
              "      <th>Winner</th>\n",
              "    </tr>\n",
              "  </thead>\n",
              "  <tbody>\n",
              "    <tr>\n",
              "      <th>0</th>\n",
              "      <td>20-07-27</td>\n",
              "      <td>MLB</td>\n",
              "      <td>LA Angels at Oakland</td>\n",
              "      <td>LAA at. OAK</td>\n",
              "      <td>U</td>\n",
              "      <td>OAK</td>\n",
              "    </tr>\n",
              "    <tr>\n",
              "      <th>1</th>\n",
              "      <td>20-07-27</td>\n",
              "      <td>MLB</td>\n",
              "      <td>Arizona at San Diego</td>\n",
              "      <td>ARI at. SD</td>\n",
              "      <td>U</td>\n",
              "      <td>SD</td>\n",
              "    </tr>\n",
              "    <tr>\n",
              "      <th>2</th>\n",
              "      <td>20-07-27</td>\n",
              "      <td>MLB</td>\n",
              "      <td>Toronto at Washington</td>\n",
              "      <td>TOR at. WAS</td>\n",
              "      <td>U</td>\n",
              "      <td>TOR</td>\n",
              "    </tr>\n",
              "    <tr>\n",
              "      <th>3</th>\n",
              "      <td>20-07-27</td>\n",
              "      <td>MLB</td>\n",
              "      <td>Chi. Cubs at Cincinnati</td>\n",
              "      <td>CHC at. CIN</td>\n",
              "      <td>O</td>\n",
              "      <td>CHC</td>\n",
              "    </tr>\n",
              "    <tr>\n",
              "      <th>4</th>\n",
              "      <td>20-07-27</td>\n",
              "      <td>MLB</td>\n",
              "      <td>Atlanta at Tampa Bay</td>\n",
              "      <td>ATL at. TB</td>\n",
              "      <td>O</td>\n",
              "      <td>TB</td>\n",
              "    </tr>\n",
              "  </tbody>\n",
              "</table>\n",
              "</div>"
            ],
            "text/plain": [
              "       Date League                  Matchup        Teams Total Winner\n",
              "0  20-07-27    MLB     LA Angels at Oakland  LAA at. OAK     U    OAK\n",
              "1  20-07-27    MLB     Arizona at San Diego   ARI at. SD     U     SD\n",
              "2  20-07-27    MLB    Toronto at Washington  TOR at. WAS     U    TOR\n",
              "3  20-07-27    MLB  Chi. Cubs at Cincinnati  CHC at. CIN     O    CHC\n",
              "4  20-07-27    MLB     Atlanta at Tampa Bay   ATL at. TB     O     TB"
            ]
          },
          "metadata": {
            "tags": []
          }
        }
      ]
    },
    {
      "cell_type": "code",
      "metadata": {
        "id": "OCzJsbXCQi8k",
        "colab": {
          "base_uri": "https://localhost:8080/",
          "height": 35
        },
        "outputId": "b3b07868-c6a7-4b04-e7de-0b808a2913ee"
      },
      "source": [
        "results=pd.DataFrame()\n",
        "for i in range(len(cap)):\n",
        "  date=cap.loc[i,'DATE']\n",
        "  team=cap.loc[i,'PICK']\n",
        "  tmp1=all_res.query(f\"Date>'{date}'\")  #все результаты после искомой даты\n",
        "  matchup_list=tmp1['Matchup'].to_list()\n",
        "  matchups=list(filter(lambda x: team in x, matchup_list))  #список следующих матчей команды\n",
        "  m_len=len(matchups)\n",
        "  if m_len==0:\n",
        "    break\n",
        "  if m_len>2:\n",
        "    matchups=matchups[:2]\n",
        "  m_len=len(matchups)\n",
        "  tmp2=tmp1.query(f\"Matchup in {matchups}\").reset_index(drop=True)\n",
        "  wl=0\n",
        "  for c in range(m_len):\n",
        "    if team+' at' in tmp2.loc[c,'Matchup']:\n",
        "      final_team=tmp2.loc[c,'Teams'].split(' at. ')[0]\n",
        "    else:\n",
        "      final_team=tmp2.loc[c,'Teams'].split(' at. ')[1]\n",
        "    if final_team==tmp2.loc[c,'Winner']:\n",
        "      wl=c+1\n",
        "      break\n",
        "  tmp=pd.DataFrame(pd.Series([date,team,wl])).T\n",
        "  results=results.append(tmp,sort=False)\n",
        "results.columns=['Date','Team','Result']\n",
        "res=results['Result'].value_counts()\n",
        "b1=100\n",
        "b2=500\n",
        "final_res=res[1]*0.85*b1-(res[0]+res[2])*b1+res[2]*0.85*b2-res[0]*b2\n",
        "display(int(final_res))"
      ],
      "execution_count": null,
      "outputs": [
        {
          "output_type": "display_data",
          "data": {
            "text/plain": [
              "110"
            ]
          },
          "metadata": {
            "tags": []
          }
        }
      ]
    },
    {
      "cell_type": "code",
      "metadata": {
        "id": "L9tBXeHA5RIf",
        "colab": {
          "base_uri": "https://localhost:8080/",
          "height": 55
        },
        "outputId": "7f40e657-e8b9-4420-83e0-ce705ecdfde7"
      },
      "source": [
        "cappers.keys()"
      ],
      "execution_count": null,
      "outputs": [
        {
          "output_type": "execute_result",
          "data": {
            "text/plain": [
              "dict_keys(['AAA Sports', 'Al McMordie', 'American Sports Analysts', 'Auto Racing Advisor', 'Ben Burns', 'Chris Elliott', 'Dan Kaiser', 'Dave Cokin', 'Forum Legends', 'Golf Forecaster', 'Jesse Schule', 'Larry Ness', 'Marc Lawrence', 'Matt Fargo', 'Mike Lundin', 'Power Sports', 'Ricky Tran', 'Scott Rickenbach', 'Silicon Valley Simulator', 'Soccer Authority', 'Sportspicker AI', 'Spread Knowledge', 'Steve Merril', 'Tennis Insiders', 'Teddy Covers', 'Tim Michael', 'Will Rogers'])"
            ]
          },
          "metadata": {
            "tags": []
          },
          "execution_count": 47
        }
      ]
    },
    {
      "cell_type": "code",
      "metadata": {
        "id": "x41wrAmkyPD-",
        "colab": {
          "base_uri": "https://localhost:8080/",
          "height": 316
        },
        "outputId": "3a36c1c5-cc10-477a-8d9f-27c5a3aa5df2"
      },
      "source": [
        "#ПОИСК РЕЗУЛЬТАТОВ ПОСЛЕ ПРОИГРЫША\n",
        "def correct(row):\n",
        "  row['DATE']=row['DATE'].replace('.','-')\n",
        "  if 'Under' in row['PICK'] or 'Over' in row['PICK']:\n",
        "    row['PICK']=float('nan')\n",
        "  return row\n",
        "\n",
        "games=2 #количество матчей после проигрыша\n",
        "summa=0\n",
        "liga='MLB'\n",
        "usa_caps=['AAA Sports','Al McMordie','American Sports Analysts','Ben Burns','Chris Elliott','Dan Kaiser','Forum Legends','Jesse Schule','Larry Ness','Marc Lawrence','Matt Fargo',\n",
        "          'Mike Lundin','Power Sports','Ricky Tran','Scott Rickenbach','Sportspicker AI','Spread Knowledge','Steve Merril','Teddy Covers','Tim Michael','Will Rogers']\n",
        "for capps in usa_caps:\n",
        "  try:\n",
        "    filename=capps+'.csv'\n",
        "    cap=pd.read_csv(path+filename)\n",
        "    cap.columns=['Capper','DATE','WL','League','PICK','UNITS']\n",
        "    cap=cap.apply(correct,axis=1)\n",
        "    cap=cap.query(f\"DATE>'19-11-23' & WL=='L' & League=='{liga}'\").reset_index(drop=True)\n",
        "    start_date=cap.loc[0,'DATE']+'.csv'\n",
        "    list_res=os.listdir(path_res)\n",
        "    list_res.sort()\n",
        "    pos=list_res.index(start_date)\n",
        "    list_res=list_res[pos+1:]\n",
        "    all_res=pd.DataFrame(columns=['Date','League','Matchup','Teams','Total','Winner'])\n",
        "    for f in list_res:\n",
        "      tmp=pd.read_csv(path_res+f,header=0)\n",
        "      all_res=all_res.append(tmp,sort=False)\n",
        "    all_res=all_res.query(f\"League=='{liga}'\")\n",
        "    cap.dropna(inplace=True)\n",
        "    cap.reset_index(drop=True,inplace=True)\n",
        "    #display(cap.head(),all_res.head())\n",
        "    results=pd.DataFrame()\n",
        "    for i in range(len(cap)):\n",
        "      date=cap.loc[i,'DATE']\n",
        "      team=cap.loc[i,'PICK']\n",
        "      tmp1=all_res.query(f\"Date>'{date}'\")  #все результаты после искомой даты\n",
        "      matchup_list=tmp1['Matchup'].to_list()\n",
        "      matchups=list(filter(lambda x: team in x, matchup_list))  #список следующих матчей команды\n",
        "      m_len=len(matchups)\n",
        "      if m_len==0:\n",
        "        break\n",
        "      if m_len>games:\n",
        "        matchups=matchups[:games]\n",
        "      m_len=len(matchups)\n",
        "      tmp2=tmp1.query(f\"Matchup in {matchups}\").reset_index(drop=True)\n",
        "      wl=0\n",
        "      for c in range(m_len):\n",
        "        if team+' at' in tmp2.loc[c,'Matchup']:\n",
        "          final_team=tmp2.loc[c,'Teams'].split(' at. ')[0]\n",
        "        else:\n",
        "          final_team=tmp2.loc[c,'Teams'].split(' at. ')[1]\n",
        "        if final_team==tmp2.loc[c,'Winner']:\n",
        "          wl=c+1\n",
        "          break\n",
        "      tmp3=pd.DataFrame(pd.Series([date,team,wl])).T\n",
        "      results=results.append(tmp3,sort=False)\n",
        "    results.columns=['Date','Team','Result']\n",
        "    res=results['Result'].value_counts()\n",
        "    if games==2:\n",
        "      b1=100\n",
        "      b2=100\n",
        "      final_res=res[1]*0.85*b1-(res[0]+res[2])*b1+res[2]*0.85*b2-res[0]*b2\n",
        "      summa+=final_res\n",
        "    else:\n",
        "      b1=100\n",
        "      b2=300\n",
        "      b3=500\n",
        "      final_res=res[1]*0.85*b1-(res[0]+res[2]+res[3])*b1+res[2]*0.85*b2-(res[0]+res[3])*b2+res[3]*0.85*b3-res[0]*b3\n",
        "      summa+=final_res\n",
        "    display(f\"{capps}: {int(final_res)}\")\n",
        "  except:\n",
        "    pass\n",
        "print('Общая сумма:',summa)"
      ],
      "execution_count": null,
      "outputs": [
        {
          "output_type": "display_data",
          "data": {
            "application/vnd.google.colaboratory.intrinsic+json": {
              "type": "string"
            },
            "text/plain": [
              "'AAA Sports: 464'"
            ]
          },
          "metadata": {
            "tags": []
          }
        },
        {
          "output_type": "display_data",
          "data": {
            "application/vnd.google.colaboratory.intrinsic+json": {
              "type": "string"
            },
            "text/plain": [
              "'Al McMordie: -1850'"
            ]
          },
          "metadata": {
            "tags": []
          }
        },
        {
          "output_type": "display_data",
          "data": {
            "application/vnd.google.colaboratory.intrinsic+json": {
              "type": "string"
            },
            "text/plain": [
              "'Ben Burns: -205'"
            ]
          },
          "metadata": {
            "tags": []
          }
        },
        {
          "output_type": "display_data",
          "data": {
            "application/vnd.google.colaboratory.intrinsic+json": {
              "type": "string"
            },
            "text/plain": [
              "'Forum Legends: -10'"
            ]
          },
          "metadata": {
            "tags": []
          }
        },
        {
          "output_type": "display_data",
          "data": {
            "application/vnd.google.colaboratory.intrinsic+json": {
              "type": "string"
            },
            "text/plain": [
              "'Jesse Schule: 125'"
            ]
          },
          "metadata": {
            "tags": []
          }
        },
        {
          "output_type": "display_data",
          "data": {
            "application/vnd.google.colaboratory.intrinsic+json": {
              "type": "string"
            },
            "text/plain": [
              "'Larry Ness: 75'"
            ]
          },
          "metadata": {
            "tags": []
          }
        },
        {
          "output_type": "display_data",
          "data": {
            "application/vnd.google.colaboratory.intrinsic+json": {
              "type": "string"
            },
            "text/plain": [
              "'Marc Lawrence: -420'"
            ]
          },
          "metadata": {
            "tags": []
          }
        },
        {
          "output_type": "display_data",
          "data": {
            "application/vnd.google.colaboratory.intrinsic+json": {
              "type": "string"
            },
            "text/plain": [
              "'Matt Fargo: -940'"
            ]
          },
          "metadata": {
            "tags": []
          }
        },
        {
          "output_type": "display_data",
          "data": {
            "application/vnd.google.colaboratory.intrinsic+json": {
              "type": "string"
            },
            "text/plain": [
              "'Mike Lundin: -1155'"
            ]
          },
          "metadata": {
            "tags": []
          }
        },
        {
          "output_type": "display_data",
          "data": {
            "application/vnd.google.colaboratory.intrinsic+json": {
              "type": "string"
            },
            "text/plain": [
              "'Power Sports: -130'"
            ]
          },
          "metadata": {
            "tags": []
          }
        },
        {
          "output_type": "display_data",
          "data": {
            "application/vnd.google.colaboratory.intrinsic+json": {
              "type": "string"
            },
            "text/plain": [
              "'Sportspicker AI: -605'"
            ]
          },
          "metadata": {
            "tags": []
          }
        },
        {
          "output_type": "display_data",
          "data": {
            "application/vnd.google.colaboratory.intrinsic+json": {
              "type": "string"
            },
            "text/plain": [
              "'Spread Knowledge: 150'"
            ]
          },
          "metadata": {
            "tags": []
          }
        },
        {
          "output_type": "display_data",
          "data": {
            "application/vnd.google.colaboratory.intrinsic+json": {
              "type": "string"
            },
            "text/plain": [
              "'Teddy Covers: -305'"
            ]
          },
          "metadata": {
            "tags": []
          }
        },
        {
          "output_type": "display_data",
          "data": {
            "application/vnd.google.colaboratory.intrinsic+json": {
              "type": "string"
            },
            "text/plain": [
              "'Tim Michael: 870'"
            ]
          },
          "metadata": {
            "tags": []
          }
        },
        {
          "output_type": "display_data",
          "data": {
            "application/vnd.google.colaboratory.intrinsic+json": {
              "type": "string"
            },
            "text/plain": [
              "'Will Rogers: -450'"
            ]
          },
          "metadata": {
            "tags": []
          }
        },
        {
          "output_type": "stream",
          "text": [
            "Общая сумма: -4385.0\n"
          ],
          "name": "stdout"
        }
      ]
    },
    {
      "cell_type": "code",
      "metadata": {
        "id": "f1rlmvFn6Pf4",
        "colab": {
          "base_uri": "https://localhost:8080/",
          "height": 1000
        },
        "outputId": "5dc60ea8-eab2-40bb-934d-652674b26399"
      },
      "source": [
        "cap=pd.read_csv(path+'Lee Sterling.csv')\n",
        "display(cap[cap['League']=='NFL'])"
      ],
      "execution_count": null,
      "outputs": [
        {
          "output_type": "display_data",
          "data": {
            "text/html": [
              "<div>\n",
              "<style scoped>\n",
              "    .dataframe tbody tr th:only-of-type {\n",
              "        vertical-align: middle;\n",
              "    }\n",
              "\n",
              "    .dataframe tbody tr th {\n",
              "        vertical-align: top;\n",
              "    }\n",
              "\n",
              "    .dataframe thead th {\n",
              "        text-align: right;\n",
              "    }\n",
              "</style>\n",
              "<table border=\"1\" class=\"dataframe\">\n",
              "  <thead>\n",
              "    <tr style=\"text-align: right;\">\n",
              "      <th></th>\n",
              "      <th>Capper</th>\n",
              "      <th>DATE</th>\n",
              "      <th>W/L</th>\n",
              "      <th>League</th>\n",
              "      <th>PICK</th>\n",
              "      <th>UNITS</th>\n",
              "    </tr>\n",
              "  </thead>\n",
              "  <tbody>\n",
              "    <tr>\n",
              "      <th>89</th>\n",
              "      <td>Lee Sterling</td>\n",
              "      <td>20.09.13</td>\n",
              "      <td>W</td>\n",
              "      <td>NFL</td>\n",
              "      <td>Arizona</td>\n",
              "      <td>700</td>\n",
              "    </tr>\n",
              "    <tr>\n",
              "      <th>90</th>\n",
              "      <td>Lee Sterling</td>\n",
              "      <td>20.09.13</td>\n",
              "      <td>W</td>\n",
              "      <td>NFL</td>\n",
              "      <td>Green Bay</td>\n",
              "      <td>800</td>\n",
              "    </tr>\n",
              "    <tr>\n",
              "      <th>91</th>\n",
              "      <td>Lee Sterling</td>\n",
              "      <td>20.09.13</td>\n",
              "      <td>L</td>\n",
              "      <td>NFL</td>\n",
              "      <td>Miami</td>\n",
              "      <td>-749</td>\n",
              "    </tr>\n",
              "    <tr>\n",
              "      <th>92</th>\n",
              "      <td>Lee Sterling</td>\n",
              "      <td>20.09.13</td>\n",
              "      <td>L</td>\n",
              "      <td>NFL</td>\n",
              "      <td>Carolina</td>\n",
              "      <td>-952</td>\n",
              "    </tr>\n",
              "    <tr>\n",
              "      <th>93</th>\n",
              "      <td>Lee Sterling</td>\n",
              "      <td>20.09.13</td>\n",
              "      <td>L</td>\n",
              "      <td>NFL</td>\n",
              "      <td>Detroit</td>\n",
              "      <td>-864</td>\n",
              "    </tr>\n",
              "    <tr>\n",
              "      <th>96</th>\n",
              "      <td>Lee Sterling</td>\n",
              "      <td>20.09.17</td>\n",
              "      <td>W</td>\n",
              "      <td>NFL</td>\n",
              "      <td>Over Cincinnati vs. Cleveland</td>\n",
              "      <td>800</td>\n",
              "    </tr>\n",
              "    <tr>\n",
              "      <th>100</th>\n",
              "      <td>Lee Sterling</td>\n",
              "      <td>20.09.20</td>\n",
              "      <td>W</td>\n",
              "      <td>NFL</td>\n",
              "      <td>L.A. Chargers</td>\n",
              "      <td>900</td>\n",
              "    </tr>\n",
              "    <tr>\n",
              "      <th>101</th>\n",
              "      <td>Lee Sterling</td>\n",
              "      <td>20.09.20</td>\n",
              "      <td>W</td>\n",
              "      <td>NFL</td>\n",
              "      <td>San Francisco</td>\n",
              "      <td>800</td>\n",
              "    </tr>\n",
              "    <tr>\n",
              "      <th>102</th>\n",
              "      <td>Lee Sterling</td>\n",
              "      <td>20.09.20</td>\n",
              "      <td>W</td>\n",
              "      <td>NFL</td>\n",
              "      <td>L.A. Rams</td>\n",
              "      <td>800</td>\n",
              "    </tr>\n",
              "    <tr>\n",
              "      <th>103</th>\n",
              "      <td>Lee Sterling</td>\n",
              "      <td>20.09.20</td>\n",
              "      <td>W</td>\n",
              "      <td>NFL</td>\n",
              "      <td>Indianapolis</td>\n",
              "      <td>800</td>\n",
              "    </tr>\n",
              "    <tr>\n",
              "      <th>104</th>\n",
              "      <td>Lee Sterling</td>\n",
              "      <td>20.09.20</td>\n",
              "      <td>L</td>\n",
              "      <td>NFL</td>\n",
              "      <td>Pittsburgh</td>\n",
              "      <td>-660</td>\n",
              "    </tr>\n",
              "    <tr>\n",
              "      <th>106</th>\n",
              "      <td>Lee Sterling</td>\n",
              "      <td>20.09.24</td>\n",
              "      <td>W</td>\n",
              "      <td>NFL</td>\n",
              "      <td>Miami</td>\n",
              "      <td>800</td>\n",
              "    </tr>\n",
              "    <tr>\n",
              "      <th>113</th>\n",
              "      <td>Lee Sterling</td>\n",
              "      <td>20.09.27</td>\n",
              "      <td>W</td>\n",
              "      <td>NFL</td>\n",
              "      <td>Green Bay</td>\n",
              "      <td>800</td>\n",
              "    </tr>\n",
              "    <tr>\n",
              "      <th>115</th>\n",
              "      <td>Lee Sterling</td>\n",
              "      <td>20.09.27</td>\n",
              "      <td>W</td>\n",
              "      <td>NFL</td>\n",
              "      <td>Cleveland</td>\n",
              "      <td>800</td>\n",
              "    </tr>\n",
              "    <tr>\n",
              "      <th>116</th>\n",
              "      <td>Lee Sterling</td>\n",
              "      <td>20.09.27</td>\n",
              "      <td>L</td>\n",
              "      <td>NFL</td>\n",
              "      <td>L.A. Chargers</td>\n",
              "      <td>-714</td>\n",
              "    </tr>\n",
              "    <tr>\n",
              "      <th>117</th>\n",
              "      <td>Lee Sterling</td>\n",
              "      <td>20.09.27</td>\n",
              "      <td>L</td>\n",
              "      <td>NFL</td>\n",
              "      <td>N.Y. Giants</td>\n",
              "      <td>-880</td>\n",
              "    </tr>\n",
              "    <tr>\n",
              "      <th>118</th>\n",
              "      <td>Lee Sterling</td>\n",
              "      <td>20.09.27</td>\n",
              "      <td>L</td>\n",
              "      <td>NFL</td>\n",
              "      <td>Tennessee</td>\n",
              "      <td>-770</td>\n",
              "    </tr>\n",
              "    <tr>\n",
              "      <th>124</th>\n",
              "      <td>Lee Sterling</td>\n",
              "      <td>20.10.04</td>\n",
              "      <td>W</td>\n",
              "      <td>NFL</td>\n",
              "      <td>Over Minnesota vs. Houston</td>\n",
              "      <td>900</td>\n",
              "    </tr>\n",
              "    <tr>\n",
              "      <th>125</th>\n",
              "      <td>Lee Sterling</td>\n",
              "      <td>20.10.04</td>\n",
              "      <td>W</td>\n",
              "      <td>NFL</td>\n",
              "      <td>Tampa Bay</td>\n",
              "      <td>0</td>\n",
              "    </tr>\n",
              "    <tr>\n",
              "      <th>126</th>\n",
              "      <td>Lee Sterling</td>\n",
              "      <td>20.10.04</td>\n",
              "      <td>L</td>\n",
              "      <td>NFL</td>\n",
              "      <td>Chicago</td>\n",
              "      <td>-1089</td>\n",
              "    </tr>\n",
              "    <tr>\n",
              "      <th>127</th>\n",
              "      <td>Lee Sterling</td>\n",
              "      <td>20.10.04</td>\n",
              "      <td>L</td>\n",
              "      <td>NFL</td>\n",
              "      <td>Arizona</td>\n",
              "      <td>-990</td>\n",
              "    </tr>\n",
              "    <tr>\n",
              "      <th>128</th>\n",
              "      <td>Lee Sterling</td>\n",
              "      <td>20.10.04</td>\n",
              "      <td>L</td>\n",
              "      <td>NFL</td>\n",
              "      <td>Miami</td>\n",
              "      <td>-1044</td>\n",
              "    </tr>\n",
              "    <tr>\n",
              "      <th>129</th>\n",
              "      <td>Lee Sterling</td>\n",
              "      <td>20.10.05</td>\n",
              "      <td>W</td>\n",
              "      <td>NFL</td>\n",
              "      <td>Green Bay</td>\n",
              "      <td>900</td>\n",
              "    </tr>\n",
              "    <tr>\n",
              "      <th>130</th>\n",
              "      <td>Lee Sterling</td>\n",
              "      <td>20.10.08</td>\n",
              "      <td>L</td>\n",
              "      <td>NFL</td>\n",
              "      <td>Tampa Bay</td>\n",
              "      <td>-936</td>\n",
              "    </tr>\n",
              "    <tr>\n",
              "      <th>138</th>\n",
              "      <td>Lee Sterling</td>\n",
              "      <td>20.10.11</td>\n",
              "      <td>W</td>\n",
              "      <td>NFL</td>\n",
              "      <td>Minnesota</td>\n",
              "      <td>800</td>\n",
              "    </tr>\n",
              "    <tr>\n",
              "      <th>139</th>\n",
              "      <td>Lee Sterling</td>\n",
              "      <td>20.10.11</td>\n",
              "      <td>W</td>\n",
              "      <td>NFL</td>\n",
              "      <td>Cleveland</td>\n",
              "      <td>900</td>\n",
              "    </tr>\n",
              "    <tr>\n",
              "      <th>140</th>\n",
              "      <td>Lee Sterling</td>\n",
              "      <td>20.10.11</td>\n",
              "      <td>L</td>\n",
              "      <td>NFL</td>\n",
              "      <td>Cincinnati</td>\n",
              "      <td>-880</td>\n",
              "    </tr>\n",
              "    <tr>\n",
              "      <th>150</th>\n",
              "      <td>Lee Sterling</td>\n",
              "      <td>20.10.18</td>\n",
              "      <td>W</td>\n",
              "      <td>NFL</td>\n",
              "      <td>Tampa Bay</td>\n",
              "      <td>800</td>\n",
              "    </tr>\n",
              "    <tr>\n",
              "      <th>151</th>\n",
              "      <td>Lee Sterling</td>\n",
              "      <td>20.10.18</td>\n",
              "      <td>W</td>\n",
              "      <td>NFL</td>\n",
              "      <td>Over Baltimore vs. Philadelphia</td>\n",
              "      <td>900</td>\n",
              "    </tr>\n",
              "    <tr>\n",
              "      <th>152</th>\n",
              "      <td>Lee Sterling</td>\n",
              "      <td>20.10.18</td>\n",
              "      <td>W</td>\n",
              "      <td>NFL</td>\n",
              "      <td>Pittsburgh</td>\n",
              "      <td>1000</td>\n",
              "    </tr>\n",
              "    <tr>\n",
              "      <th>153</th>\n",
              "      <td>Lee Sterling</td>\n",
              "      <td>20.10.18</td>\n",
              "      <td>W</td>\n",
              "      <td>NFL</td>\n",
              "      <td>Over Houston vs. Tennessee</td>\n",
              "      <td>700</td>\n",
              "    </tr>\n",
              "    <tr>\n",
              "      <th>154</th>\n",
              "      <td>Lee Sterling</td>\n",
              "      <td>20.10.19</td>\n",
              "      <td>L</td>\n",
              "      <td>NFL</td>\n",
              "      <td>Dallas</td>\n",
              "      <td>-1100</td>\n",
              "    </tr>\n",
              "    <tr>\n",
              "      <th>155</th>\n",
              "      <td>Lee Sterling</td>\n",
              "      <td>20.10.19</td>\n",
              "      <td>L</td>\n",
              "      <td>NFL</td>\n",
              "      <td>Over Kansas City vs. Buffalo</td>\n",
              "      <td>-816</td>\n",
              "    </tr>\n",
              "    <tr>\n",
              "      <th>167</th>\n",
              "      <td>Lee Sterling</td>\n",
              "      <td>20.10.25</td>\n",
              "      <td>W</td>\n",
              "      <td>NFL</td>\n",
              "      <td>Arizona</td>\n",
              "      <td>700</td>\n",
              "    </tr>\n",
              "    <tr>\n",
              "      <th>168</th>\n",
              "      <td>Lee Sterling</td>\n",
              "      <td>20.10.25</td>\n",
              "      <td>W</td>\n",
              "      <td>NFL</td>\n",
              "      <td>Carolina</td>\n",
              "      <td>800</td>\n",
              "    </tr>\n",
              "    <tr>\n",
              "      <th>169</th>\n",
              "      <td>Lee Sterling</td>\n",
              "      <td>20.10.25</td>\n",
              "      <td>W</td>\n",
              "      <td>NFL</td>\n",
              "      <td>Green Bay</td>\n",
              "      <td>1000</td>\n",
              "    </tr>\n",
              "    <tr>\n",
              "      <th>170</th>\n",
              "      <td>Lee Sterling</td>\n",
              "      <td>20.10.25</td>\n",
              "      <td>L</td>\n",
              "      <td>NFL</td>\n",
              "      <td>Atlanta</td>\n",
              "      <td>-880</td>\n",
              "    </tr>\n",
              "    <tr>\n",
              "      <th>171</th>\n",
              "      <td>Lee Sterling</td>\n",
              "      <td>20.10.25</td>\n",
              "      <td>L</td>\n",
              "      <td>NFL</td>\n",
              "      <td>Tennessee</td>\n",
              "      <td>-1062</td>\n",
              "    </tr>\n",
              "    <tr>\n",
              "      <th>173</th>\n",
              "      <td>Lee Sterling</td>\n",
              "      <td>20.11.01</td>\n",
              "      <td>W</td>\n",
              "      <td>NFL</td>\n",
              "      <td>Seattle</td>\n",
              "      <td>700</td>\n",
              "    </tr>\n",
              "    <tr>\n",
              "      <th>174</th>\n",
              "      <td>Lee Sterling</td>\n",
              "      <td>20.11.01</td>\n",
              "      <td>W</td>\n",
              "      <td>NFL</td>\n",
              "      <td>Denver</td>\n",
              "      <td>1000</td>\n",
              "    </tr>\n",
              "    <tr>\n",
              "      <th>175</th>\n",
              "      <td>Lee Sterling</td>\n",
              "      <td>20.11.01</td>\n",
              "      <td>W</td>\n",
              "      <td>NFL</td>\n",
              "      <td>Las Vegas</td>\n",
              "      <td>900</td>\n",
              "    </tr>\n",
              "    <tr>\n",
              "      <th>176</th>\n",
              "      <td>Lee Sterling</td>\n",
              "      <td>20.11.01</td>\n",
              "      <td>W</td>\n",
              "      <td>NFL</td>\n",
              "      <td>Buffalo</td>\n",
              "      <td>0</td>\n",
              "    </tr>\n",
              "    <tr>\n",
              "      <th>177</th>\n",
              "      <td>Lee Sterling</td>\n",
              "      <td>20.11.01</td>\n",
              "      <td>L</td>\n",
              "      <td>NFL</td>\n",
              "      <td>Tennessee</td>\n",
              "      <td>-896</td>\n",
              "    </tr>\n",
              "    <tr>\n",
              "      <th>178</th>\n",
              "      <td>Lee Sterling</td>\n",
              "      <td>20.11.02</td>\n",
              "      <td>L</td>\n",
              "      <td>NFL</td>\n",
              "      <td>Under Tampa Bay vs. N.Y. Giants</td>\n",
              "      <td>-945</td>\n",
              "    </tr>\n",
              "    <tr>\n",
              "      <th>188</th>\n",
              "      <td>Lee Sterling</td>\n",
              "      <td>20.11.08</td>\n",
              "      <td>W</td>\n",
              "      <td>NFL</td>\n",
              "      <td>New Orleans</td>\n",
              "      <td>800</td>\n",
              "    </tr>\n",
              "    <tr>\n",
              "      <th>189</th>\n",
              "      <td>Lee Sterling</td>\n",
              "      <td>20.11.08</td>\n",
              "      <td>W</td>\n",
              "      <td>NFL</td>\n",
              "      <td>Dallas</td>\n",
              "      <td>900</td>\n",
              "    </tr>\n",
              "    <tr>\n",
              "      <th>190</th>\n",
              "      <td>Lee Sterling</td>\n",
              "      <td>20.11.08</td>\n",
              "      <td>W</td>\n",
              "      <td>NFL</td>\n",
              "      <td>Baltimore</td>\n",
              "      <td>800</td>\n",
              "    </tr>\n",
              "    <tr>\n",
              "      <th>191</th>\n",
              "      <td>Lee Sterling</td>\n",
              "      <td>20.11.08</td>\n",
              "      <td>L</td>\n",
              "      <td>NFL</td>\n",
              "      <td>Arizona</td>\n",
              "      <td>-1020</td>\n",
              "    </tr>\n",
              "    <tr>\n",
              "      <th>192</th>\n",
              "      <td>Lee Sterling</td>\n",
              "      <td>20.11.08</td>\n",
              "      <td>L</td>\n",
              "      <td>NFL</td>\n",
              "      <td>Seattle</td>\n",
              "      <td>-315</td>\n",
              "    </tr>\n",
              "    <tr>\n",
              "      <th>193</th>\n",
              "      <td>Lee Sterling</td>\n",
              "      <td>20.11.08</td>\n",
              "      <td>L</td>\n",
              "      <td>NFL</td>\n",
              "      <td>Houston</td>\n",
              "      <td>-1008</td>\n",
              "    </tr>\n",
              "    <tr>\n",
              "      <th>195</th>\n",
              "      <td>Lee Sterling</td>\n",
              "      <td>20.11.12</td>\n",
              "      <td>W</td>\n",
              "      <td>NFL</td>\n",
              "      <td>Indianapolis</td>\n",
              "      <td>900</td>\n",
              "    </tr>\n",
              "    <tr>\n",
              "      <th>202</th>\n",
              "      <td>Lee Sterling</td>\n",
              "      <td>20.11.15</td>\n",
              "      <td>W</td>\n",
              "      <td>NFL</td>\n",
              "      <td>New Orleans</td>\n",
              "      <td>900</td>\n",
              "    </tr>\n",
              "    <tr>\n",
              "      <th>203</th>\n",
              "      <td>Lee Sterling</td>\n",
              "      <td>20.11.15</td>\n",
              "      <td>W</td>\n",
              "      <td>NFL</td>\n",
              "      <td>Houston</td>\n",
              "      <td>900</td>\n",
              "    </tr>\n",
              "    <tr>\n",
              "      <th>204</th>\n",
              "      <td>Lee Sterling</td>\n",
              "      <td>20.11.15</td>\n",
              "      <td>L</td>\n",
              "      <td>NFL</td>\n",
              "      <td>Over Denver vs. Las Vegas</td>\n",
              "      <td>-990</td>\n",
              "    </tr>\n",
              "    <tr>\n",
              "      <th>205</th>\n",
              "      <td>Lee Sterling</td>\n",
              "      <td>20.11.15</td>\n",
              "      <td>L</td>\n",
              "      <td>NFL</td>\n",
              "      <td>L.A. Chargers</td>\n",
              "      <td>-1100</td>\n",
              "    </tr>\n",
              "    <tr>\n",
              "      <th>206</th>\n",
              "      <td>Lee Sterling</td>\n",
              "      <td>20.11.15</td>\n",
              "      <td>L</td>\n",
              "      <td>NFL</td>\n",
              "      <td>Over Philadelphia vs. N.Y. Giants</td>\n",
              "      <td>-756</td>\n",
              "    </tr>\n",
              "    <tr>\n",
              "      <th>207</th>\n",
              "      <td>Lee Sterling</td>\n",
              "      <td>20.11.16</td>\n",
              "      <td>L</td>\n",
              "      <td>NFL</td>\n",
              "      <td>Chicago</td>\n",
              "      <td>-1080</td>\n",
              "    </tr>\n",
              "    <tr>\n",
              "      <th>209</th>\n",
              "      <td>Lee Sterling</td>\n",
              "      <td>20.11.19</td>\n",
              "      <td>W</td>\n",
              "      <td>NFL</td>\n",
              "      <td>Seattle</td>\n",
              "      <td>900</td>\n",
              "    </tr>\n",
              "  </tbody>\n",
              "</table>\n",
              "</div>"
            ],
            "text/plain": [
              "           Capper      DATE W/L League                               PICK  \\\n",
              "89   Lee Sterling  20.09.13   W    NFL                            Arizona   \n",
              "90   Lee Sterling  20.09.13   W    NFL                          Green Bay   \n",
              "91   Lee Sterling  20.09.13   L    NFL                              Miami   \n",
              "92   Lee Sterling  20.09.13   L    NFL                           Carolina   \n",
              "93   Lee Sterling  20.09.13   L    NFL                            Detroit   \n",
              "96   Lee Sterling  20.09.17   W    NFL      Over Cincinnati vs. Cleveland   \n",
              "100  Lee Sterling  20.09.20   W    NFL                      L.A. Chargers   \n",
              "101  Lee Sterling  20.09.20   W    NFL                      San Francisco   \n",
              "102  Lee Sterling  20.09.20   W    NFL                          L.A. Rams   \n",
              "103  Lee Sterling  20.09.20   W    NFL                       Indianapolis   \n",
              "104  Lee Sterling  20.09.20   L    NFL                         Pittsburgh   \n",
              "106  Lee Sterling  20.09.24   W    NFL                              Miami   \n",
              "113  Lee Sterling  20.09.27   W    NFL                          Green Bay   \n",
              "115  Lee Sterling  20.09.27   W    NFL                          Cleveland   \n",
              "116  Lee Sterling  20.09.27   L    NFL                      L.A. Chargers   \n",
              "117  Lee Sterling  20.09.27   L    NFL                        N.Y. Giants   \n",
              "118  Lee Sterling  20.09.27   L    NFL                          Tennessee   \n",
              "124  Lee Sterling  20.10.04   W    NFL         Over Minnesota vs. Houston   \n",
              "125  Lee Sterling  20.10.04   W    NFL                          Tampa Bay   \n",
              "126  Lee Sterling  20.10.04   L    NFL                            Chicago   \n",
              "127  Lee Sterling  20.10.04   L    NFL                            Arizona   \n",
              "128  Lee Sterling  20.10.04   L    NFL                              Miami   \n",
              "129  Lee Sterling  20.10.05   W    NFL                          Green Bay   \n",
              "130  Lee Sterling  20.10.08   L    NFL                          Tampa Bay   \n",
              "138  Lee Sterling  20.10.11   W    NFL                          Minnesota   \n",
              "139  Lee Sterling  20.10.11   W    NFL                          Cleveland   \n",
              "140  Lee Sterling  20.10.11   L    NFL                         Cincinnati   \n",
              "150  Lee Sterling  20.10.18   W    NFL                          Tampa Bay   \n",
              "151  Lee Sterling  20.10.18   W    NFL    Over Baltimore vs. Philadelphia   \n",
              "152  Lee Sterling  20.10.18   W    NFL                         Pittsburgh   \n",
              "153  Lee Sterling  20.10.18   W    NFL         Over Houston vs. Tennessee   \n",
              "154  Lee Sterling  20.10.19   L    NFL                             Dallas   \n",
              "155  Lee Sterling  20.10.19   L    NFL       Over Kansas City vs. Buffalo   \n",
              "167  Lee Sterling  20.10.25   W    NFL                            Arizona   \n",
              "168  Lee Sterling  20.10.25   W    NFL                           Carolina   \n",
              "169  Lee Sterling  20.10.25   W    NFL                          Green Bay   \n",
              "170  Lee Sterling  20.10.25   L    NFL                            Atlanta   \n",
              "171  Lee Sterling  20.10.25   L    NFL                          Tennessee   \n",
              "173  Lee Sterling  20.11.01   W    NFL                            Seattle   \n",
              "174  Lee Sterling  20.11.01   W    NFL                             Denver   \n",
              "175  Lee Sterling  20.11.01   W    NFL                          Las Vegas   \n",
              "176  Lee Sterling  20.11.01   W    NFL                            Buffalo   \n",
              "177  Lee Sterling  20.11.01   L    NFL                          Tennessee   \n",
              "178  Lee Sterling  20.11.02   L    NFL    Under Tampa Bay vs. N.Y. Giants   \n",
              "188  Lee Sterling  20.11.08   W    NFL                        New Orleans   \n",
              "189  Lee Sterling  20.11.08   W    NFL                             Dallas   \n",
              "190  Lee Sterling  20.11.08   W    NFL                          Baltimore   \n",
              "191  Lee Sterling  20.11.08   L    NFL                            Arizona   \n",
              "192  Lee Sterling  20.11.08   L    NFL                            Seattle   \n",
              "193  Lee Sterling  20.11.08   L    NFL                            Houston   \n",
              "195  Lee Sterling  20.11.12   W    NFL                       Indianapolis   \n",
              "202  Lee Sterling  20.11.15   W    NFL                        New Orleans   \n",
              "203  Lee Sterling  20.11.15   W    NFL                            Houston   \n",
              "204  Lee Sterling  20.11.15   L    NFL          Over Denver vs. Las Vegas   \n",
              "205  Lee Sterling  20.11.15   L    NFL                      L.A. Chargers   \n",
              "206  Lee Sterling  20.11.15   L    NFL  Over Philadelphia vs. N.Y. Giants   \n",
              "207  Lee Sterling  20.11.16   L    NFL                            Chicago   \n",
              "209  Lee Sterling  20.11.19   W    NFL                            Seattle   \n",
              "\n",
              "     UNITS  \n",
              "89     700  \n",
              "90     800  \n",
              "91    -749  \n",
              "92    -952  \n",
              "93    -864  \n",
              "96     800  \n",
              "100    900  \n",
              "101    800  \n",
              "102    800  \n",
              "103    800  \n",
              "104   -660  \n",
              "106    800  \n",
              "113    800  \n",
              "115    800  \n",
              "116   -714  \n",
              "117   -880  \n",
              "118   -770  \n",
              "124    900  \n",
              "125      0  \n",
              "126  -1089  \n",
              "127   -990  \n",
              "128  -1044  \n",
              "129    900  \n",
              "130   -936  \n",
              "138    800  \n",
              "139    900  \n",
              "140   -880  \n",
              "150    800  \n",
              "151    900  \n",
              "152   1000  \n",
              "153    700  \n",
              "154  -1100  \n",
              "155   -816  \n",
              "167    700  \n",
              "168    800  \n",
              "169   1000  \n",
              "170   -880  \n",
              "171  -1062  \n",
              "173    700  \n",
              "174   1000  \n",
              "175    900  \n",
              "176      0  \n",
              "177   -896  \n",
              "178   -945  \n",
              "188    800  \n",
              "189    900  \n",
              "190    800  \n",
              "191  -1020  \n",
              "192   -315  \n",
              "193  -1008  \n",
              "195    900  \n",
              "202    900  \n",
              "203    900  \n",
              "204   -990  \n",
              "205  -1100  \n",
              "206   -756  \n",
              "207  -1080  \n",
              "209    900  "
            ]
          },
          "metadata": {
            "tags": []
          }
        }
      ]
    },
    {
      "cell_type": "code",
      "metadata": {
        "id": "j-LH0A0YXVsn",
        "colab": {
          "base_uri": "https://localhost:8080/",
          "height": 35
        },
        "outputId": "e7780102-b104-4411-f790-5189dd386251"
      },
      "source": [
        "print('dat {}:'.format(dat),all_cappers.query(\"DATE=='{}'\".format(dat))['UNITS'].sum())"
      ],
      "execution_count": null,
      "outputs": [
        {
          "output_type": "stream",
          "text": [
            "dat 20.07.11: 1496\n"
          ],
          "name": "stdout"
        }
      ]
    },
    {
      "cell_type": "code",
      "metadata": {
        "id": "Y6Shd7s5dD5z",
        "colab": {
          "base_uri": "https://localhost:8080/",
          "height": 1000
        },
        "outputId": "f7c0190c-406c-48d1-dfeb-b97736ce7e16"
      },
      "source": [
        "wager=pd.DataFrame(columns=['Capper','Wager'])\n",
        "wag={}\n",
        "all=pd.DataFrame(columns=cols,index=cappers.keys()).fillna(0)\n",
        "sum=0\n",
        "for capper in cappers.keys():\n",
        "  filename=capper+'.csv'\n",
        "  cap=pd.read_csv(path+filename)\n",
        "  curr_cap=cap.groupby(by=['League'])['UNITS'].sum()\n",
        "  sum1=0\n",
        "  for el in range(len(curr_cap)):\n",
        "    all.loc[capper,curr_cap.index[el]]=curr_cap.iloc[el]\n",
        "    if np.issubdtype(curr_cap.iloc[el], np.int64):\n",
        "      sum+=curr_cap.iloc[el]\n",
        "      sum1+=curr_cap.iloc[el]\n",
        "  wag[capper]=sum1\n",
        "all=all.fillna(0)\n",
        "tennis=all.loc['Tennis Insiders',:].sum()\n",
        "all.loc['Tennis Insiders','TENNIS']=tennis\n",
        "all['TENNIS']=list(map(int,all['TENNIS']))\n",
        "soccer=all.loc['Soccer Authority',:].sum()\n",
        "all.insert(11,'Soccer',0)\n",
        "all.loc['Soccer Authority','Soccer']=soccer\n",
        "all['Soccer']=list(map(int,all['Soccer']))\n",
        "iwag=wag.items()\n",
        "display((sorted(iwag,key=lambda x: x[1],reverse=True)))\n",
        "all=all[['NCAAF','NBA','MLB','NHL','NFL','NCAAB','WNBA','TENNIS','Soccer']]\n",
        "display(all)"
      ],
      "execution_count": null,
      "outputs": [
        {
          "output_type": "display_data",
          "data": {
            "text/plain": [
              "[('AAA Sports', 47171),\n",
              " ('Scott Rickenbach', 42730),\n",
              " ('Tennis Insiders', 22242),\n",
              " ('Jesse Schule', 17416),\n",
              " ('Lee Sterling', 14727),\n",
              " ('Ricky Tran', 10358),\n",
              " ('Brad Feinberg', 7692),\n",
              " ('American Sports Analysts', 5799),\n",
              " ('Matt Fargo', 3510),\n",
              " ('Al McMordie', 2786),\n",
              " ('Tim Michael', 2506),\n",
              " ('Sportspicker AI', 2460),\n",
              " ('Anthony Stalter', -55),\n",
              " ('Jockey Club', -1040),\n",
              " ('Soccer Authority', -2827),\n",
              " ('Alex B Smith', -5379),\n",
              " ('Auto Racing Advisor', -8436),\n",
              " ('Paul Bovi', -9222),\n",
              " ('Golf Forecaster', -10105),\n",
              " ('Larry Ness', -16967),\n",
              " ('Teddy Covers', -18081),\n",
              " ('Dan Kaiser', -18512),\n",
              " ('Jazz Ray', -21198),\n",
              " ('Marc Lawrence', -32976),\n",
              " ('Ben Burns', -33825),\n",
              " ('Forum Legends', -35383),\n",
              " ('Spread Knowledge', -46879),\n",
              " ('Will Rogers', -60300),\n",
              " ('Power Sports', -73206),\n",
              " ('Mike Lundin', -94426)]"
            ]
          },
          "metadata": {
            "tags": []
          }
        },
        {
          "output_type": "display_data",
          "data": {
            "text/html": [
              "<div>\n",
              "<style scoped>\n",
              "    .dataframe tbody tr th:only-of-type {\n",
              "        vertical-align: middle;\n",
              "    }\n",
              "\n",
              "    .dataframe tbody tr th {\n",
              "        vertical-align: top;\n",
              "    }\n",
              "\n",
              "    .dataframe thead th {\n",
              "        text-align: right;\n",
              "    }\n",
              "</style>\n",
              "<table border=\"1\" class=\"dataframe\">\n",
              "  <thead>\n",
              "    <tr style=\"text-align: right;\">\n",
              "      <th></th>\n",
              "      <th>NCAAF</th>\n",
              "      <th>NBA</th>\n",
              "      <th>MLB</th>\n",
              "      <th>NHL</th>\n",
              "      <th>NFL</th>\n",
              "      <th>NCAAB</th>\n",
              "      <th>WNBA</th>\n",
              "      <th>TENNIS</th>\n",
              "      <th>Soccer</th>\n",
              "    </tr>\n",
              "  </thead>\n",
              "  <tbody>\n",
              "    <tr>\n",
              "      <th>AAA Sports</th>\n",
              "      <td>-6326</td>\n",
              "      <td>32028</td>\n",
              "      <td>-2286</td>\n",
              "      <td>-11288</td>\n",
              "      <td>21751</td>\n",
              "      <td>12566</td>\n",
              "      <td>-2220</td>\n",
              "      <td>0</td>\n",
              "      <td>0</td>\n",
              "    </tr>\n",
              "    <tr>\n",
              "      <th>Al McMordie</th>\n",
              "      <td>-2332</td>\n",
              "      <td>6259</td>\n",
              "      <td>-7021</td>\n",
              "      <td>-190</td>\n",
              "      <td>15140</td>\n",
              "      <td>-8370</td>\n",
              "      <td>0</td>\n",
              "      <td>0</td>\n",
              "      <td>0</td>\n",
              "    </tr>\n",
              "    <tr>\n",
              "      <th>American Sports Analysts</th>\n",
              "      <td>-17135</td>\n",
              "      <td>2574</td>\n",
              "      <td>-4402</td>\n",
              "      <td>14490</td>\n",
              "      <td>2046</td>\n",
              "      <td>8576</td>\n",
              "      <td>0</td>\n",
              "      <td>0</td>\n",
              "      <td>0</td>\n",
              "    </tr>\n",
              "    <tr>\n",
              "      <th>Auto Racing Advisor</th>\n",
              "      <td>0</td>\n",
              "      <td>0</td>\n",
              "      <td>0</td>\n",
              "      <td>0</td>\n",
              "      <td>0</td>\n",
              "      <td>0</td>\n",
              "      <td>0</td>\n",
              "      <td>0</td>\n",
              "      <td>0</td>\n",
              "    </tr>\n",
              "    <tr>\n",
              "      <th>Ben Burns</th>\n",
              "      <td>-22246</td>\n",
              "      <td>-5715</td>\n",
              "      <td>28981</td>\n",
              "      <td>-38868</td>\n",
              "      <td>-9952</td>\n",
              "      <td>9519</td>\n",
              "      <td>0</td>\n",
              "      <td>0</td>\n",
              "      <td>0</td>\n",
              "    </tr>\n",
              "    <tr>\n",
              "      <th>Dan Kaiser</th>\n",
              "      <td>4105</td>\n",
              "      <td>-5727</td>\n",
              "      <td>2244</td>\n",
              "      <td>-8008</td>\n",
              "      <td>4225</td>\n",
              "      <td>-15351</td>\n",
              "      <td>0</td>\n",
              "      <td>0</td>\n",
              "      <td>0</td>\n",
              "    </tr>\n",
              "    <tr>\n",
              "      <th>Forum Legends</th>\n",
              "      <td>5182</td>\n",
              "      <td>-6652</td>\n",
              "      <td>-23371</td>\n",
              "      <td>1941</td>\n",
              "      <td>-7768</td>\n",
              "      <td>-4715</td>\n",
              "      <td>0</td>\n",
              "      <td>0</td>\n",
              "      <td>0</td>\n",
              "    </tr>\n",
              "    <tr>\n",
              "      <th>Golf Forecaster</th>\n",
              "      <td>0</td>\n",
              "      <td>0</td>\n",
              "      <td>0</td>\n",
              "      <td>0</td>\n",
              "      <td>0</td>\n",
              "      <td>0</td>\n",
              "      <td>0</td>\n",
              "      <td>0</td>\n",
              "      <td>0</td>\n",
              "    </tr>\n",
              "    <tr>\n",
              "      <th>Jesse Schule</th>\n",
              "      <td>2332</td>\n",
              "      <td>18402</td>\n",
              "      <td>11396</td>\n",
              "      <td>4219</td>\n",
              "      <td>-11708</td>\n",
              "      <td>-2833</td>\n",
              "      <td>0</td>\n",
              "      <td>0</td>\n",
              "      <td>0</td>\n",
              "    </tr>\n",
              "    <tr>\n",
              "      <th>Jockey Club</th>\n",
              "      <td>0</td>\n",
              "      <td>0</td>\n",
              "      <td>0</td>\n",
              "      <td>0</td>\n",
              "      <td>0</td>\n",
              "      <td>0</td>\n",
              "      <td>0</td>\n",
              "      <td>0</td>\n",
              "      <td>0</td>\n",
              "    </tr>\n",
              "    <tr>\n",
              "      <th>Larry Ness</th>\n",
              "      <td>-5060</td>\n",
              "      <td>12349</td>\n",
              "      <td>-3662</td>\n",
              "      <td>-3805</td>\n",
              "      <td>14331</td>\n",
              "      <td>-31120</td>\n",
              "      <td>0</td>\n",
              "      <td>0</td>\n",
              "      <td>0</td>\n",
              "    </tr>\n",
              "    <tr>\n",
              "      <th>Lee Sterling</th>\n",
              "      <td>10164</td>\n",
              "      <td>-7009</td>\n",
              "      <td>0</td>\n",
              "      <td>0</td>\n",
              "      <td>3604</td>\n",
              "      <td>0</td>\n",
              "      <td>0</td>\n",
              "      <td>0</td>\n",
              "      <td>0</td>\n",
              "    </tr>\n",
              "    <tr>\n",
              "      <th>Marc Lawrence</th>\n",
              "      <td>-12671</td>\n",
              "      <td>6242</td>\n",
              "      <td>-5499</td>\n",
              "      <td>0</td>\n",
              "      <td>-5189</td>\n",
              "      <td>-16069</td>\n",
              "      <td>0</td>\n",
              "      <td>0</td>\n",
              "      <td>0</td>\n",
              "    </tr>\n",
              "    <tr>\n",
              "      <th>Matt Fargo</th>\n",
              "      <td>-8988</td>\n",
              "      <td>-6452</td>\n",
              "      <td>5373</td>\n",
              "      <td>4385</td>\n",
              "      <td>-2751</td>\n",
              "      <td>17348</td>\n",
              "      <td>-4630</td>\n",
              "      <td>0</td>\n",
              "      <td>0</td>\n",
              "    </tr>\n",
              "    <tr>\n",
              "      <th>Mike Lundin</th>\n",
              "      <td>-3164</td>\n",
              "      <td>-16326</td>\n",
              "      <td>-43968</td>\n",
              "      <td>-9646</td>\n",
              "      <td>-32146</td>\n",
              "      <td>1310</td>\n",
              "      <td>0</td>\n",
              "      <td>0</td>\n",
              "      <td>0</td>\n",
              "    </tr>\n",
              "    <tr>\n",
              "      <th>Power Sports</th>\n",
              "      <td>5085</td>\n",
              "      <td>-20525</td>\n",
              "      <td>11435</td>\n",
              "      <td>-31820</td>\n",
              "      <td>-18402</td>\n",
              "      <td>-27052</td>\n",
              "      <td>0</td>\n",
              "      <td>0</td>\n",
              "      <td>0</td>\n",
              "    </tr>\n",
              "    <tr>\n",
              "      <th>Ricky Tran</th>\n",
              "      <td>-21761</td>\n",
              "      <td>-2425</td>\n",
              "      <td>8000</td>\n",
              "      <td>13848</td>\n",
              "      <td>-13802</td>\n",
              "      <td>19988</td>\n",
              "      <td>0</td>\n",
              "      <td>0</td>\n",
              "      <td>0</td>\n",
              "    </tr>\n",
              "    <tr>\n",
              "      <th>Scott Rickenbach</th>\n",
              "      <td>-2457</td>\n",
              "      <td>2990</td>\n",
              "      <td>3572</td>\n",
              "      <td>26381</td>\n",
              "      <td>3406</td>\n",
              "      <td>6108</td>\n",
              "      <td>0</td>\n",
              "      <td>0</td>\n",
              "      <td>0</td>\n",
              "    </tr>\n",
              "    <tr>\n",
              "      <th>Soccer Authority</th>\n",
              "      <td>0</td>\n",
              "      <td>0</td>\n",
              "      <td>0</td>\n",
              "      <td>0</td>\n",
              "      <td>0</td>\n",
              "      <td>0</td>\n",
              "      <td>0</td>\n",
              "      <td>0</td>\n",
              "      <td>-2827</td>\n",
              "    </tr>\n",
              "    <tr>\n",
              "      <th>Sportspicker AI</th>\n",
              "      <td>0</td>\n",
              "      <td>-1227</td>\n",
              "      <td>-3960</td>\n",
              "      <td>529</td>\n",
              "      <td>6518</td>\n",
              "      <td>0</td>\n",
              "      <td>0</td>\n",
              "      <td>0</td>\n",
              "      <td>0</td>\n",
              "    </tr>\n",
              "    <tr>\n",
              "      <th>Spread Knowledge</th>\n",
              "      <td>-17647</td>\n",
              "      <td>-27055</td>\n",
              "      <td>19559</td>\n",
              "      <td>-1496</td>\n",
              "      <td>-3212</td>\n",
              "      <td>-17392</td>\n",
              "      <td>0</td>\n",
              "      <td>0</td>\n",
              "      <td>0</td>\n",
              "    </tr>\n",
              "    <tr>\n",
              "      <th>Tennis Insiders</th>\n",
              "      <td>0</td>\n",
              "      <td>0</td>\n",
              "      <td>0</td>\n",
              "      <td>0</td>\n",
              "      <td>0</td>\n",
              "      <td>0</td>\n",
              "      <td>0</td>\n",
              "      <td>22242</td>\n",
              "      <td>0</td>\n",
              "    </tr>\n",
              "    <tr>\n",
              "      <th>Teddy Covers</th>\n",
              "      <td>-3180</td>\n",
              "      <td>1848</td>\n",
              "      <td>-12088</td>\n",
              "      <td>0</td>\n",
              "      <td>4202</td>\n",
              "      <td>-8863</td>\n",
              "      <td>0</td>\n",
              "      <td>0</td>\n",
              "      <td>0</td>\n",
              "    </tr>\n",
              "    <tr>\n",
              "      <th>Tim Michael</th>\n",
              "      <td>-15005</td>\n",
              "      <td>-5555</td>\n",
              "      <td>-15661</td>\n",
              "      <td>11968</td>\n",
              "      <td>6558</td>\n",
              "      <td>22590</td>\n",
              "      <td>-3270</td>\n",
              "      <td>0</td>\n",
              "      <td>0</td>\n",
              "    </tr>\n",
              "    <tr>\n",
              "      <th>Will Rogers</th>\n",
              "      <td>-6290</td>\n",
              "      <td>-22153</td>\n",
              "      <td>-1784</td>\n",
              "      <td>-26555</td>\n",
              "      <td>14980</td>\n",
              "      <td>-6208</td>\n",
              "      <td>-40</td>\n",
              "      <td>0</td>\n",
              "      <td>0</td>\n",
              "    </tr>\n",
              "    <tr>\n",
              "      <th>Anthony Stalter</th>\n",
              "      <td>-3196</td>\n",
              "      <td>-960</td>\n",
              "      <td>-3507</td>\n",
              "      <td>800</td>\n",
              "      <td>6808</td>\n",
              "      <td>0</td>\n",
              "      <td>0</td>\n",
              "      <td>0</td>\n",
              "      <td>0</td>\n",
              "    </tr>\n",
              "    <tr>\n",
              "      <th>Brad Feinberg</th>\n",
              "      <td>-1649</td>\n",
              "      <td>3021</td>\n",
              "      <td>-2131</td>\n",
              "      <td>800</td>\n",
              "      <td>7651</td>\n",
              "      <td>0</td>\n",
              "      <td>0</td>\n",
              "      <td>0</td>\n",
              "      <td>0</td>\n",
              "    </tr>\n",
              "    <tr>\n",
              "      <th>Alex B Smith</th>\n",
              "      <td>-7907</td>\n",
              "      <td>3894</td>\n",
              "      <td>0</td>\n",
              "      <td>-2003</td>\n",
              "      <td>1537</td>\n",
              "      <td>0</td>\n",
              "      <td>0</td>\n",
              "      <td>0</td>\n",
              "      <td>0</td>\n",
              "    </tr>\n",
              "    <tr>\n",
              "      <th>Paul Bovi</th>\n",
              "      <td>-4926</td>\n",
              "      <td>-5753</td>\n",
              "      <td>0</td>\n",
              "      <td>0</td>\n",
              "      <td>1457</td>\n",
              "      <td>0</td>\n",
              "      <td>0</td>\n",
              "      <td>0</td>\n",
              "      <td>0</td>\n",
              "    </tr>\n",
              "    <tr>\n",
              "      <th>Jazz Ray</th>\n",
              "      <td>-15254</td>\n",
              "      <td>1382</td>\n",
              "      <td>-23808</td>\n",
              "      <td>-1363</td>\n",
              "      <td>-5576</td>\n",
              "      <td>0</td>\n",
              "      <td>0</td>\n",
              "      <td>0</td>\n",
              "      <td>0</td>\n",
              "    </tr>\n",
              "  </tbody>\n",
              "</table>\n",
              "</div>"
            ],
            "text/plain": [
              "                          NCAAF    NBA    MLB    NHL    NFL  NCAAB  WNBA  \\\n",
              "AAA Sports                -6326  32028  -2286 -11288  21751  12566 -2220   \n",
              "Al McMordie               -2332   6259  -7021   -190  15140  -8370     0   \n",
              "American Sports Analysts -17135   2574  -4402  14490   2046   8576     0   \n",
              "Auto Racing Advisor           0      0      0      0      0      0     0   \n",
              "Ben Burns                -22246  -5715  28981 -38868  -9952   9519     0   \n",
              "Dan Kaiser                 4105  -5727   2244  -8008   4225 -15351     0   \n",
              "Forum Legends              5182  -6652 -23371   1941  -7768  -4715     0   \n",
              "Golf Forecaster               0      0      0      0      0      0     0   \n",
              "Jesse Schule               2332  18402  11396   4219 -11708  -2833     0   \n",
              "Jockey Club                   0      0      0      0      0      0     0   \n",
              "Larry Ness                -5060  12349  -3662  -3805  14331 -31120     0   \n",
              "Lee Sterling              10164  -7009      0      0   3604      0     0   \n",
              "Marc Lawrence            -12671   6242  -5499      0  -5189 -16069     0   \n",
              "Matt Fargo                -8988  -6452   5373   4385  -2751  17348 -4630   \n",
              "Mike Lundin               -3164 -16326 -43968  -9646 -32146   1310     0   \n",
              "Power Sports               5085 -20525  11435 -31820 -18402 -27052     0   \n",
              "Ricky Tran               -21761  -2425   8000  13848 -13802  19988     0   \n",
              "Scott Rickenbach          -2457   2990   3572  26381   3406   6108     0   \n",
              "Soccer Authority              0      0      0      0      0      0     0   \n",
              "Sportspicker AI               0  -1227  -3960    529   6518      0     0   \n",
              "Spread Knowledge         -17647 -27055  19559  -1496  -3212 -17392     0   \n",
              "Tennis Insiders               0      0      0      0      0      0     0   \n",
              "Teddy Covers              -3180   1848 -12088      0   4202  -8863     0   \n",
              "Tim Michael              -15005  -5555 -15661  11968   6558  22590 -3270   \n",
              "Will Rogers               -6290 -22153  -1784 -26555  14980  -6208   -40   \n",
              "Anthony Stalter           -3196   -960  -3507    800   6808      0     0   \n",
              "Brad Feinberg             -1649   3021  -2131    800   7651      0     0   \n",
              "Alex B Smith              -7907   3894      0  -2003   1537      0     0   \n",
              "Paul Bovi                 -4926  -5753      0      0   1457      0     0   \n",
              "Jazz Ray                 -15254   1382 -23808  -1363  -5576      0     0   \n",
              "\n",
              "                          TENNIS  Soccer  \n",
              "AAA Sports                     0       0  \n",
              "Al McMordie                    0       0  \n",
              "American Sports Analysts       0       0  \n",
              "Auto Racing Advisor            0       0  \n",
              "Ben Burns                      0       0  \n",
              "Dan Kaiser                     0       0  \n",
              "Forum Legends                  0       0  \n",
              "Golf Forecaster                0       0  \n",
              "Jesse Schule                   0       0  \n",
              "Jockey Club                    0       0  \n",
              "Larry Ness                     0       0  \n",
              "Lee Sterling                   0       0  \n",
              "Marc Lawrence                  0       0  \n",
              "Matt Fargo                     0       0  \n",
              "Mike Lundin                    0       0  \n",
              "Power Sports                   0       0  \n",
              "Ricky Tran                     0       0  \n",
              "Scott Rickenbach               0       0  \n",
              "Soccer Authority               0   -2827  \n",
              "Sportspicker AI                0       0  \n",
              "Spread Knowledge               0       0  \n",
              "Tennis Insiders            22242       0  \n",
              "Teddy Covers                   0       0  \n",
              "Tim Michael                    0       0  \n",
              "Will Rogers                    0       0  \n",
              "Anthony Stalter                0       0  \n",
              "Brad Feinberg                  0       0  \n",
              "Alex B Smith                   0       0  \n",
              "Paul Bovi                      0       0  \n",
              "Jazz Ray                       0       0  "
            ]
          },
          "metadata": {
            "tags": []
          }
        }
      ]
    },
    {
      "cell_type": "code",
      "metadata": {
        "id": "oIgiIu-EKnv9",
        "colab": {
          "base_uri": "https://localhost:8080/",
          "height": 197
        },
        "outputId": "105bc5ce-22a0-4c4a-f8db-ed463baae1f3"
      },
      "source": [
        "#полная сводка по всем капперам\n",
        "all_sports={}\n",
        "for el in all.columns:\n",
        "  all_sports[el]=all[el].sum()\n",
        "\n",
        "df=pd.DataFrame({'Wager':list(all_sports.values())},index=list(all_sports.keys()))\n",
        "df1=pd.DataFrame({'Wager':list(wag.values())},index=list(wag.keys()))\n",
        "display(df.sort_values(by='Wager',ascending=False).T)\n",
        "display(df1.sort_values(by='Wager',ascending=False).T)"
      ],
      "execution_count": null,
      "outputs": [
        {
          "output_type": "display_data",
          "data": {
            "text/html": [
              "<div>\n",
              "<style scoped>\n",
              "    .dataframe tbody tr th:only-of-type {\n",
              "        vertical-align: middle;\n",
              "    }\n",
              "\n",
              "    .dataframe tbody tr th {\n",
              "        vertical-align: top;\n",
              "    }\n",
              "\n",
              "    .dataframe thead th {\n",
              "        text-align: right;\n",
              "    }\n",
              "</style>\n",
              "<table border=\"1\" class=\"dataframe\">\n",
              "  <thead>\n",
              "    <tr style=\"text-align: right;\">\n",
              "      <th></th>\n",
              "      <th>TENNIS</th>\n",
              "      <th>WNBA</th>\n",
              "      <th>NFL</th>\n",
              "      <th>NCAAB</th>\n",
              "      <th>NBA</th>\n",
              "      <th>MLB</th>\n",
              "      <th>NHL</th>\n",
              "      <th>NCAAF</th>\n",
              "    </tr>\n",
              "  </thead>\n",
              "  <tbody>\n",
              "    <tr>\n",
              "      <th>Wager</th>\n",
              "      <td>18111</td>\n",
              "      <td>-7990</td>\n",
              "      <td>-28739</td>\n",
              "      <td>-39968</td>\n",
              "      <td>-41053</td>\n",
              "      <td>-48712</td>\n",
              "      <td>-55681</td>\n",
              "      <td>-101904</td>\n",
              "    </tr>\n",
              "  </tbody>\n",
              "</table>\n",
              "</div>"
            ],
            "text/plain": [
              "       TENNIS  WNBA    NFL  NCAAB    NBA    MLB    NHL   NCAAF\n",
              "Wager   18111 -7990 -28739 -39968 -41053 -48712 -55681 -101904"
            ]
          },
          "metadata": {
            "tags": []
          }
        },
        {
          "output_type": "display_data",
          "data": {
            "text/html": [
              "<div>\n",
              "<style scoped>\n",
              "    .dataframe tbody tr th:only-of-type {\n",
              "        vertical-align: middle;\n",
              "    }\n",
              "\n",
              "    .dataframe tbody tr th {\n",
              "        vertical-align: top;\n",
              "    }\n",
              "\n",
              "    .dataframe thead th {\n",
              "        text-align: right;\n",
              "    }\n",
              "</style>\n",
              "<table border=\"1\" class=\"dataframe\">\n",
              "  <thead>\n",
              "    <tr style=\"text-align: right;\">\n",
              "      <th></th>\n",
              "      <th>AAA Sports</th>\n",
              "      <th>Scott Rickenbach</th>\n",
              "      <th>Jesse Schule</th>\n",
              "      <th>Tennis Insiders</th>\n",
              "      <th>Tim Michael</th>\n",
              "      <th>Ricky Tran</th>\n",
              "      <th>Alex B Smith</th>\n",
              "      <th>Brad Feinberg</th>\n",
              "      <th>American Sports Analysts</th>\n",
              "      <th>Lee Sterling</th>\n",
              "      <th>Anthony Stalter</th>\n",
              "      <th>Matt Fargo</th>\n",
              "      <th>Sportspicker AI</th>\n",
              "      <th>Al McMordie</th>\n",
              "      <th>Soccer Authority</th>\n",
              "      <th>Dan Kaiser</th>\n",
              "      <th>Jockey Club</th>\n",
              "      <th>Auto Racing Advisor</th>\n",
              "      <th>Jazz Ray</th>\n",
              "      <th>Golf Forecaster</th>\n",
              "      <th>Paul Bovi</th>\n",
              "      <th>Teddy Covers</th>\n",
              "      <th>Larry Ness</th>\n",
              "      <th>Forum Legends</th>\n",
              "      <th>Spread Knowledge</th>\n",
              "      <th>Marc Lawrence</th>\n",
              "      <th>Ben Burns</th>\n",
              "      <th>Mike Lundin</th>\n",
              "      <th>Will Rogers</th>\n",
              "      <th>Power Sports</th>\n",
              "    </tr>\n",
              "  </thead>\n",
              "  <tbody>\n",
              "    <tr>\n",
              "      <th>Wager</th>\n",
              "      <td>45593</td>\n",
              "      <td>37599</td>\n",
              "      <td>21157</td>\n",
              "      <td>18111</td>\n",
              "      <td>16755</td>\n",
              "      <td>7426</td>\n",
              "      <td>4907</td>\n",
              "      <td>4485</td>\n",
              "      <td>4456</td>\n",
              "      <td>2657</td>\n",
              "      <td>2045</td>\n",
              "      <td>1963</td>\n",
              "      <td>604</td>\n",
              "      <td>-1772</td>\n",
              "      <td>-3053</td>\n",
              "      <td>-3811</td>\n",
              "      <td>-4135</td>\n",
              "      <td>-4436</td>\n",
              "      <td>-5278</td>\n",
              "      <td>-8671</td>\n",
              "      <td>-9513</td>\n",
              "      <td>-17061</td>\n",
              "      <td>-18610</td>\n",
              "      <td>-30187</td>\n",
              "      <td>-34213</td>\n",
              "      <td>-40620</td>\n",
              "      <td>-45740</td>\n",
              "      <td>-75680</td>\n",
              "      <td>-76418</td>\n",
              "      <td>-76920</td>\n",
              "    </tr>\n",
              "  </tbody>\n",
              "</table>\n",
              "</div>"
            ],
            "text/plain": [
              "       AAA Sports  Scott Rickenbach  Jesse Schule  Tennis Insiders  \\\n",
              "Wager       45593             37599         21157            18111   \n",
              "\n",
              "       Tim Michael  Ricky Tran  Alex B Smith  Brad Feinberg  \\\n",
              "Wager        16755        7426          4907           4485   \n",
              "\n",
              "       American Sports Analysts  Lee Sterling  Anthony Stalter  Matt Fargo  \\\n",
              "Wager                      4456          2657             2045        1963   \n",
              "\n",
              "       Sportspicker AI  Al McMordie  Soccer Authority  Dan Kaiser  \\\n",
              "Wager              604        -1772             -3053       -3811   \n",
              "\n",
              "       Jockey Club  Auto Racing Advisor  Jazz Ray  Golf Forecaster  Paul Bovi  \\\n",
              "Wager        -4135                -4436     -5278            -8671      -9513   \n",
              "\n",
              "       Teddy Covers  Larry Ness  Forum Legends  Spread Knowledge  \\\n",
              "Wager        -17061      -18610         -30187            -34213   \n",
              "\n",
              "       Marc Lawrence  Ben Burns  Mike Lundin  Will Rogers  Power Sports  \n",
              "Wager         -40620     -45740       -75680       -76418        -76920  "
            ]
          },
          "metadata": {
            "tags": []
          }
        }
      ]
    },
    {
      "cell_type": "code",
      "metadata": {
        "id": "_xlGuqGQVCGc",
        "colab": {
          "base_uri": "https://localhost:8080/",
          "height": 1000
        },
        "outputId": "f5ab1110-09cc-4597-be40-80d35e0888c3"
      },
      "source": [
        "sp=['NHL','NBA','NFL','NCAAB','NCAAF','MLB']\n",
        "all_caps=pd.DataFrame(columns=list(cappers.keys()))\n",
        "for el in sp:\n",
        "  s1=(pd.DataFrame(all[el])).T\n",
        "  all_caps=all_caps.append(s1)\n",
        "  minmax=all_caps.loc[el].sort_values()\n",
        "  print(\"\\033[102m\",el,\"\\033[0m\")\n",
        "  display(minmax[:3],minmax[-3:][::-1])\n",
        "  print()\n",
        "display(all_caps.drop(['Auto Racing Advisor','Golf Forecaster','Jockey Club','Soccer Authority','Tennis Insiders'],axis=1))"
      ],
      "execution_count": null,
      "outputs": [
        {
          "output_type": "stream",
          "text": [
            "\u001b[102m NHL \u001b[0m\n"
          ],
          "name": "stdout"
        },
        {
          "output_type": "display_data",
          "data": {
            "text/plain": [
              "Ben Burns       -38868\n",
              "Power Sports    -31820\n",
              "Will Rogers     -26555\n",
              "Name: NHL, dtype: object"
            ]
          },
          "metadata": {
            "tags": []
          }
        },
        {
          "output_type": "display_data",
          "data": {
            "text/plain": [
              "Scott Rickenbach            26381\n",
              "American Sports Analysts    14490\n",
              "Ricky Tran                  13848\n",
              "Name: NHL, dtype: object"
            ]
          },
          "metadata": {
            "tags": []
          }
        },
        {
          "output_type": "stream",
          "text": [
            "\n",
            "\u001b[102m NBA \u001b[0m\n"
          ],
          "name": "stdout"
        },
        {
          "output_type": "display_data",
          "data": {
            "text/plain": [
              "Spread Knowledge    -27055\n",
              "Will Rogers         -22153\n",
              "Power Sports        -20525\n",
              "Name: NBA, dtype: object"
            ]
          },
          "metadata": {
            "tags": []
          }
        },
        {
          "output_type": "display_data",
          "data": {
            "text/plain": [
              "AAA Sports      32028\n",
              "Jesse Schule    18402\n",
              "Larry Ness      12349\n",
              "Name: NBA, dtype: object"
            ]
          },
          "metadata": {
            "tags": []
          }
        },
        {
          "output_type": "stream",
          "text": [
            "\n",
            "\u001b[102m NFL \u001b[0m\n"
          ],
          "name": "stdout"
        },
        {
          "output_type": "display_data",
          "data": {
            "text/plain": [
              "Mike Lundin     -32146\n",
              "Power Sports    -18402\n",
              "Ricky Tran      -13802\n",
              "Name: NFL, dtype: object"
            ]
          },
          "metadata": {
            "tags": []
          }
        },
        {
          "output_type": "display_data",
          "data": {
            "text/plain": [
              "AAA Sports     21751\n",
              "Al McMordie    15140\n",
              "Will Rogers    14980\n",
              "Name: NFL, dtype: object"
            ]
          },
          "metadata": {
            "tags": []
          }
        },
        {
          "output_type": "stream",
          "text": [
            "\n",
            "\u001b[102m NCAAB \u001b[0m\n"
          ],
          "name": "stdout"
        },
        {
          "output_type": "display_data",
          "data": {
            "text/plain": [
              "Larry Ness          -31120\n",
              "Power Sports        -27052\n",
              "Spread Knowledge    -17392\n",
              "Name: NCAAB, dtype: object"
            ]
          },
          "metadata": {
            "tags": []
          }
        },
        {
          "output_type": "display_data",
          "data": {
            "text/plain": [
              "Tim Michael    22590\n",
              "Ricky Tran     19988\n",
              "Matt Fargo     17348\n",
              "Name: NCAAB, dtype: object"
            ]
          },
          "metadata": {
            "tags": []
          }
        },
        {
          "output_type": "stream",
          "text": [
            "\n",
            "\u001b[102m NCAAF \u001b[0m\n"
          ],
          "name": "stdout"
        },
        {
          "output_type": "display_data",
          "data": {
            "text/plain": [
              "Ben Burns           -22246\n",
              "Ricky Tran          -21761\n",
              "Spread Knowledge    -17647\n",
              "Name: NCAAF, dtype: object"
            ]
          },
          "metadata": {
            "tags": []
          }
        },
        {
          "output_type": "display_data",
          "data": {
            "text/plain": [
              "Lee Sterling     10164\n",
              "Forum Legends     5182\n",
              "Power Sports      5085\n",
              "Name: NCAAF, dtype: object"
            ]
          },
          "metadata": {
            "tags": []
          }
        },
        {
          "output_type": "stream",
          "text": [
            "\n",
            "\u001b[102m MLB \u001b[0m\n"
          ],
          "name": "stdout"
        },
        {
          "output_type": "display_data",
          "data": {
            "text/plain": [
              "Mike Lundin      -43968\n",
              "Jazz Ray         -23808\n",
              "Forum Legends    -23371\n",
              "Name: MLB, dtype: object"
            ]
          },
          "metadata": {
            "tags": []
          }
        },
        {
          "output_type": "display_data",
          "data": {
            "text/plain": [
              "Ben Burns           28981\n",
              "Spread Knowledge    19559\n",
              "Power Sports        11435\n",
              "Name: MLB, dtype: object"
            ]
          },
          "metadata": {
            "tags": []
          }
        },
        {
          "output_type": "stream",
          "text": [
            "\n"
          ],
          "name": "stdout"
        },
        {
          "output_type": "display_data",
          "data": {
            "text/html": [
              "<div>\n",
              "<style scoped>\n",
              "    .dataframe tbody tr th:only-of-type {\n",
              "        vertical-align: middle;\n",
              "    }\n",
              "\n",
              "    .dataframe tbody tr th {\n",
              "        vertical-align: top;\n",
              "    }\n",
              "\n",
              "    .dataframe thead th {\n",
              "        text-align: right;\n",
              "    }\n",
              "</style>\n",
              "<table border=\"1\" class=\"dataframe\">\n",
              "  <thead>\n",
              "    <tr style=\"text-align: right;\">\n",
              "      <th></th>\n",
              "      <th>AAA Sports</th>\n",
              "      <th>Al McMordie</th>\n",
              "      <th>American Sports Analysts</th>\n",
              "      <th>Ben Burns</th>\n",
              "      <th>Dan Kaiser</th>\n",
              "      <th>Forum Legends</th>\n",
              "      <th>Jesse Schule</th>\n",
              "      <th>Larry Ness</th>\n",
              "      <th>Lee Sterling</th>\n",
              "      <th>Marc Lawrence</th>\n",
              "      <th>Matt Fargo</th>\n",
              "      <th>Mike Lundin</th>\n",
              "      <th>Power Sports</th>\n",
              "      <th>Ricky Tran</th>\n",
              "      <th>Scott Rickenbach</th>\n",
              "      <th>Sportspicker AI</th>\n",
              "      <th>Spread Knowledge</th>\n",
              "      <th>Teddy Covers</th>\n",
              "      <th>Tim Michael</th>\n",
              "      <th>Will Rogers</th>\n",
              "      <th>Anthony Stalter</th>\n",
              "      <th>Brad Feinberg</th>\n",
              "      <th>Alex B Smith</th>\n",
              "      <th>Paul Bovi</th>\n",
              "      <th>Jazz Ray</th>\n",
              "    </tr>\n",
              "  </thead>\n",
              "  <tbody>\n",
              "    <tr>\n",
              "      <th>NHL</th>\n",
              "      <td>-11288</td>\n",
              "      <td>-190</td>\n",
              "      <td>14490</td>\n",
              "      <td>-38868</td>\n",
              "      <td>-8008</td>\n",
              "      <td>1941</td>\n",
              "      <td>4219</td>\n",
              "      <td>-3805</td>\n",
              "      <td>0</td>\n",
              "      <td>0</td>\n",
              "      <td>4385</td>\n",
              "      <td>-9646</td>\n",
              "      <td>-31820</td>\n",
              "      <td>13848</td>\n",
              "      <td>26381</td>\n",
              "      <td>529</td>\n",
              "      <td>-1496</td>\n",
              "      <td>0</td>\n",
              "      <td>11968</td>\n",
              "      <td>-26555</td>\n",
              "      <td>800</td>\n",
              "      <td>800</td>\n",
              "      <td>-2003</td>\n",
              "      <td>0</td>\n",
              "      <td>-1363</td>\n",
              "    </tr>\n",
              "    <tr>\n",
              "      <th>NBA</th>\n",
              "      <td>32028</td>\n",
              "      <td>6259</td>\n",
              "      <td>2574</td>\n",
              "      <td>-5715</td>\n",
              "      <td>-5727</td>\n",
              "      <td>-6652</td>\n",
              "      <td>18402</td>\n",
              "      <td>12349</td>\n",
              "      <td>-7009</td>\n",
              "      <td>6242</td>\n",
              "      <td>-6452</td>\n",
              "      <td>-16326</td>\n",
              "      <td>-20525</td>\n",
              "      <td>-2425</td>\n",
              "      <td>2990</td>\n",
              "      <td>-1227</td>\n",
              "      <td>-27055</td>\n",
              "      <td>1848</td>\n",
              "      <td>-5555</td>\n",
              "      <td>-22153</td>\n",
              "      <td>-960</td>\n",
              "      <td>3021</td>\n",
              "      <td>3894</td>\n",
              "      <td>-5753</td>\n",
              "      <td>1382</td>\n",
              "    </tr>\n",
              "    <tr>\n",
              "      <th>NFL</th>\n",
              "      <td>21751</td>\n",
              "      <td>15140</td>\n",
              "      <td>2046</td>\n",
              "      <td>-9952</td>\n",
              "      <td>4225</td>\n",
              "      <td>-7768</td>\n",
              "      <td>-11708</td>\n",
              "      <td>14331</td>\n",
              "      <td>3604</td>\n",
              "      <td>-5189</td>\n",
              "      <td>-2751</td>\n",
              "      <td>-32146</td>\n",
              "      <td>-18402</td>\n",
              "      <td>-13802</td>\n",
              "      <td>3406</td>\n",
              "      <td>6518</td>\n",
              "      <td>-3212</td>\n",
              "      <td>4202</td>\n",
              "      <td>6558</td>\n",
              "      <td>14980</td>\n",
              "      <td>6808</td>\n",
              "      <td>7651</td>\n",
              "      <td>1537</td>\n",
              "      <td>1457</td>\n",
              "      <td>-5576</td>\n",
              "    </tr>\n",
              "    <tr>\n",
              "      <th>NCAAB</th>\n",
              "      <td>12566</td>\n",
              "      <td>-8370</td>\n",
              "      <td>8576</td>\n",
              "      <td>9519</td>\n",
              "      <td>-15351</td>\n",
              "      <td>-4715</td>\n",
              "      <td>-2833</td>\n",
              "      <td>-31120</td>\n",
              "      <td>0</td>\n",
              "      <td>-16069</td>\n",
              "      <td>17348</td>\n",
              "      <td>1310</td>\n",
              "      <td>-27052</td>\n",
              "      <td>19988</td>\n",
              "      <td>6108</td>\n",
              "      <td>0</td>\n",
              "      <td>-17392</td>\n",
              "      <td>-8863</td>\n",
              "      <td>22590</td>\n",
              "      <td>-6208</td>\n",
              "      <td>0</td>\n",
              "      <td>0</td>\n",
              "      <td>0</td>\n",
              "      <td>0</td>\n",
              "      <td>0</td>\n",
              "    </tr>\n",
              "    <tr>\n",
              "      <th>NCAAF</th>\n",
              "      <td>-6326</td>\n",
              "      <td>-2332</td>\n",
              "      <td>-17135</td>\n",
              "      <td>-22246</td>\n",
              "      <td>4105</td>\n",
              "      <td>5182</td>\n",
              "      <td>2332</td>\n",
              "      <td>-5060</td>\n",
              "      <td>10164</td>\n",
              "      <td>-12671</td>\n",
              "      <td>-8988</td>\n",
              "      <td>-3164</td>\n",
              "      <td>5085</td>\n",
              "      <td>-21761</td>\n",
              "      <td>-2457</td>\n",
              "      <td>0</td>\n",
              "      <td>-17647</td>\n",
              "      <td>-3180</td>\n",
              "      <td>-15005</td>\n",
              "      <td>-6290</td>\n",
              "      <td>-3196</td>\n",
              "      <td>-1649</td>\n",
              "      <td>-7907</td>\n",
              "      <td>-4926</td>\n",
              "      <td>-15254</td>\n",
              "    </tr>\n",
              "    <tr>\n",
              "      <th>MLB</th>\n",
              "      <td>-2286</td>\n",
              "      <td>-7021</td>\n",
              "      <td>-4402</td>\n",
              "      <td>28981</td>\n",
              "      <td>2244</td>\n",
              "      <td>-23371</td>\n",
              "      <td>11396</td>\n",
              "      <td>-3662</td>\n",
              "      <td>0</td>\n",
              "      <td>-5499</td>\n",
              "      <td>5373</td>\n",
              "      <td>-43968</td>\n",
              "      <td>11435</td>\n",
              "      <td>8000</td>\n",
              "      <td>3572</td>\n",
              "      <td>-3960</td>\n",
              "      <td>19559</td>\n",
              "      <td>-12088</td>\n",
              "      <td>-15661</td>\n",
              "      <td>-1784</td>\n",
              "      <td>-3507</td>\n",
              "      <td>-2131</td>\n",
              "      <td>0</td>\n",
              "      <td>0</td>\n",
              "      <td>-23808</td>\n",
              "    </tr>\n",
              "  </tbody>\n",
              "</table>\n",
              "</div>"
            ],
            "text/plain": [
              "      AAA Sports Al McMordie American Sports Analysts Ben Burns Dan Kaiser  \\\n",
              "NHL       -11288        -190                    14490    -38868      -8008   \n",
              "NBA        32028        6259                     2574     -5715      -5727   \n",
              "NFL        21751       15140                     2046     -9952       4225   \n",
              "NCAAB      12566       -8370                     8576      9519     -15351   \n",
              "NCAAF      -6326       -2332                   -17135    -22246       4105   \n",
              "MLB        -2286       -7021                    -4402     28981       2244   \n",
              "\n",
              "      Forum Legends Jesse Schule Larry Ness Lee Sterling Marc Lawrence  \\\n",
              "NHL            1941         4219      -3805            0             0   \n",
              "NBA           -6652        18402      12349        -7009          6242   \n",
              "NFL           -7768       -11708      14331         3604         -5189   \n",
              "NCAAB         -4715        -2833     -31120            0        -16069   \n",
              "NCAAF          5182         2332      -5060        10164        -12671   \n",
              "MLB          -23371        11396      -3662            0         -5499   \n",
              "\n",
              "      Matt Fargo Mike Lundin Power Sports Ricky Tran Scott Rickenbach  \\\n",
              "NHL         4385       -9646       -31820      13848            26381   \n",
              "NBA        -6452      -16326       -20525      -2425             2990   \n",
              "NFL        -2751      -32146       -18402     -13802             3406   \n",
              "NCAAB      17348        1310       -27052      19988             6108   \n",
              "NCAAF      -8988       -3164         5085     -21761            -2457   \n",
              "MLB         5373      -43968        11435       8000             3572   \n",
              "\n",
              "      Sportspicker AI Spread Knowledge Teddy Covers Tim Michael Will Rogers  \\\n",
              "NHL               529            -1496            0       11968      -26555   \n",
              "NBA             -1227           -27055         1848       -5555      -22153   \n",
              "NFL              6518            -3212         4202        6558       14980   \n",
              "NCAAB               0           -17392        -8863       22590       -6208   \n",
              "NCAAF               0           -17647        -3180      -15005       -6290   \n",
              "MLB             -3960            19559       -12088      -15661       -1784   \n",
              "\n",
              "      Anthony Stalter Brad Feinberg Alex B Smith Paul Bovi Jazz Ray  \n",
              "NHL               800           800        -2003         0    -1363  \n",
              "NBA              -960          3021         3894     -5753     1382  \n",
              "NFL              6808          7651         1537      1457    -5576  \n",
              "NCAAB               0             0            0         0        0  \n",
              "NCAAF           -3196         -1649        -7907     -4926   -15254  \n",
              "MLB             -3507         -2131            0         0   -23808  "
            ]
          },
          "metadata": {
            "tags": []
          }
        }
      ]
    },
    {
      "cell_type": "code",
      "metadata": {
        "id": "tCOgccWQDvvh",
        "colab": {
          "base_uri": "https://localhost:8080/",
          "height": 1000
        },
        "outputId": "e5001ab4-eb01-4629-d1c6-154c76c035d2"
      },
      "source": [
        "wager=pd.DataFrame(columns=['Date','Wager'])\n",
        "wag={}\n",
        "all=pd.DataFrame(columns=cols,index=cappers.keys()).fillna(0)\n",
        "sum=0\n",
        "for capper in cappers.keys():\n",
        "  filename=capper+'.csv'\n",
        "  cap=pd.read_csv(path+filename)\n",
        "  curr_cap=cap.groupby(by=['DATE'])['UNITS'].sum()\n",
        "  grafik=pd.DataFrame(curr_cap).reset_index()\n",
        "\n",
        "  plt.figure(figsize=(42,3))\n",
        "  plt.grid(axis='y')\n",
        "  plt.bar(grafik.index,grafik['UNITS'])\n",
        "  plt.title(capper)\n",
        "  plt.show()\n",
        "\n",
        "  display(capper,curr_cap.tail(9))\n",
        "#Steve Merril -8, Spread Knowledge +5, Teddy Covers +, "
      ],
      "execution_count": null,
      "outputs": [
        {
          "output_type": "display_data",
          "data": {
            "image/png": "[encoded data removed]",
            "text/plain": [
              "<Figure size 2520x216 with 1 Axes>"
            ]
          },
          "metadata": {
            "tags": [],
            "needs_background": "light"
          }
        },
        {
          "output_type": "display_data",
          "data": {
            "application/vnd.google.colaboratory.intrinsic+json": {
              "type": "string"
            },
            "text/plain": [
              "'AAA Sports'"
            ]
          },
          "metadata": {
            "tags": []
          }
        },
        {
          "output_type": "display_data",
          "data": {
            "text/plain": [
              "DATE\n",
              "20.11.12    1800\n",
              "20.11.13     800\n",
              "20.11.14     820\n",
              "20.11.15   -1083\n",
              "20.11.16    -290\n",
              "20.11.17    1000\n",
              "20.11.18    1000\n",
              "20.11.19    -280\n",
              "20.11.20    -112\n",
              "Name: UNITS, dtype: int64"
            ]
          },
          "metadata": {
            "tags": []
          }
        },
        {
          "output_type": "display_data",
          "data": {
            "image/png": "[encoded data removed]",
            "text/plain": [
              "<Figure size 2520x216 with 1 Axes>"
            ]
          },
          "metadata": {
            "tags": [],
            "needs_background": "light"
          }
        },
        {
          "output_type": "display_data",
          "data": {
            "application/vnd.google.colaboratory.intrinsic+json": {
              "type": "string"
            },
            "text/plain": [
              "'Al McMordie'"
            ]
          },
          "metadata": {
            "tags": []
          }
        },
        {
          "output_type": "display_data",
          "data": {
            "text/plain": [
              "DATE\n",
              "20.11.09    1000\n",
              "20.11.11     -26\n",
              "20.11.13    1000\n",
              "20.11.14    -350\n",
              "20.11.15    3480\n",
              "20.11.16    1000\n",
              "20.11.17    1000\n",
              "20.11.18   -1120\n",
              "20.11.19    1000\n",
              "Name: UNITS, dtype: int64"
            ]
          },
          "metadata": {
            "tags": []
          }
        },
        {
          "output_type": "display_data",
          "data": {
            "image/png": "[encoded data removed]",
            "text/plain": [
              "<Figure size 2520x216 with 1 Axes>"
            ]
          },
          "metadata": {
            "tags": [],
            "needs_background": "light"
          }
        },
        {
          "output_type": "display_data",
          "data": {
            "application/vnd.google.colaboratory.intrinsic+json": {
              "type": "string"
            },
            "text/plain": [
              "'American Sports Analysts'"
            ]
          },
          "metadata": {
            "tags": []
          }
        },
        {
          "output_type": "display_data",
          "data": {
            "text/plain": [
              "DATE\n",
              "20.11.12    1000\n",
              "20.11.13    1000\n",
              "20.11.14   -1294\n",
              "20.11.15   -2764\n",
              "20.11.16   -1070\n",
              "20.11.17    -848\n",
              "20.11.18   -1100\n",
              "20.11.19    1000\n",
              "20.11.20    1000\n",
              "Name: UNITS, dtype: int64"
            ]
          },
          "metadata": {
            "tags": []
          }
        },
        {
          "output_type": "display_data",
          "data": {
            "image/png": "[encoded data removed]",
            "text/plain": [
              "<Figure size 2520x216 with 1 Axes>"
            ]
          },
          "metadata": {
            "tags": [],
            "needs_background": "light"
          }
        },
        {
          "output_type": "display_data",
          "data": {
            "application/vnd.google.colaboratory.intrinsic+json": {
              "type": "string"
            },
            "text/plain": [
              "'Auto Racing Advisor'"
            ]
          },
          "metadata": {
            "tags": []
          }
        },
        {
          "output_type": "display_data",
          "data": {
            "text/plain": [
              "DATE\n",
              "20.06.14   -1253\n",
              "20.06.22    2500\n",
              "20.06.28    2200\n",
              "20.07.11   -3600\n",
              "20.07.12   -6500\n",
              "20.07.18   -3000\n",
              "20.08.02   -3913\n",
              "20.08.23    2100\n",
              "20.11.08   -4000\n",
              "Name: UNITS, dtype: int64"
            ]
          },
          "metadata": {
            "tags": []
          }
        },
        {
          "output_type": "display_data",
          "data": {
            "image/png": "[encoded data removed]",
            "text/plain": [
              "<Figure size 2520x216 with 1 Axes>"
            ]
          },
          "metadata": {
            "tags": [],
            "needs_background": "light"
          }
        },
        {
          "output_type": "display_data",
          "data": {
            "application/vnd.google.colaboratory.intrinsic+json": {
              "type": "string"
            },
            "text/plain": [
              "'Ben Burns'"
            ]
          },
          "metadata": {
            "tags": []
          }
        },
        {
          "output_type": "display_data",
          "data": {
            "text/plain": [
              "DATE\n",
              "20.11.12    -300\n",
              "20.11.13   -2020\n",
              "20.11.14     -35\n",
              "20.11.15    2820\n",
              "20.11.16   -1180\n",
              "20.11.17       0\n",
              "20.11.18    -420\n",
              "20.11.19    1700\n",
              "20.11.20    1000\n",
              "Name: UNITS, dtype: int64"
            ]
          },
          "metadata": {
            "tags": []
          }
        },
        {
          "output_type": "display_data",
          "data": {
            "image/png": "[encoded data removed]",
            "text/plain": [
              "<Figure size 2520x216 with 1 Axes>"
            ]
          },
          "metadata": {
            "tags": [],
            "needs_background": "light"
          }
        },
        {
          "output_type": "display_data",
          "data": {
            "application/vnd.google.colaboratory.intrinsic+json": {
              "type": "string"
            },
            "text/plain": [
              "'Dan Kaiser'"
            ]
          },
          "metadata": {
            "tags": []
          }
        },
        {
          "output_type": "display_data",
          "data": {
            "text/plain": [
              "DATE\n",
              "20.11.10     800\n",
              "20.11.11     700\n",
              "20.11.12    -800\n",
              "20.11.14    -733\n",
              "20.11.15    2160\n",
              "20.11.16    -880\n",
              "20.11.18    -770\n",
              "20.11.19    -920\n",
              "20.11.20    -880\n",
              "Name: UNITS, dtype: int64"
            ]
          },
          "metadata": {
            "tags": []
          }
        },
        {
          "output_type": "display_data",
          "data": {
            "image/png": "[encoded data removed]",
            "text/plain": [
              "<Figure size 2520x216 with 1 Axes>"
            ]
          },
          "metadata": {
            "tags": [],
            "needs_background": "light"
          }
        },
        {
          "output_type": "display_data",
          "data": {
            "application/vnd.google.colaboratory.intrinsic+json": {
              "type": "string"
            },
            "text/plain": [
              "'Forum Legends'"
            ]
          },
          "metadata": {
            "tags": []
          }
        },
        {
          "output_type": "display_data",
          "data": {
            "text/plain": [
              "DATE\n",
              "20.11.10     -20\n",
              "20.11.11     280\n",
              "20.11.12    1090\n",
              "20.11.13    -151\n",
              "20.11.14    2114\n",
              "20.11.15   -1716\n",
              "20.11.16    -708\n",
              "20.11.19    -476\n",
              "20.11.20    -372\n",
              "Name: UNITS, dtype: int64"
            ]
          },
          "metadata": {
            "tags": []
          }
        },
        {
          "output_type": "display_data",
          "data": {
            "image/png": "[encoded data removed]",
            "text/plain": [
              "<Figure size 2520x216 with 1 Axes>"
            ]
          },
          "metadata": {
            "tags": [],
            "needs_background": "light"
          }
        },
        {
          "output_type": "display_data",
          "data": {
            "application/vnd.google.colaboratory.intrinsic+json": {
              "type": "string"
            },
            "text/plain": [
              "'Golf Forecaster'"
            ]
          },
          "metadata": {
            "tags": []
          }
        },
        {
          "output_type": "display_data",
          "data": {
            "text/plain": [
              "DATE\n",
              "20.06.14     200\n",
              "20.06.21   -4900\n",
              "20.06.28    5400\n",
              "20.07.12   -1700\n",
              "20.07.26   -1501\n",
              "20.08.02   -1000\n",
              "20.11.01   -1434\n",
              "20.11.24    -100\n",
              "20.12.07   -1000\n",
              "Name: UNITS, dtype: int64"
            ]
          },
          "metadata": {
            "tags": []
          }
        },
        {
          "output_type": "display_data",
          "data": {
            "image/png": "[encoded data removed]",
            "text/plain": [
              "<Figure size 2520x216 with 1 Axes>"
            ]
          },
          "metadata": {
            "tags": [],
            "needs_background": "light"
          }
        },
        {
          "output_type": "display_data",
          "data": {
            "application/vnd.google.colaboratory.intrinsic+json": {
              "type": "string"
            },
            "text/plain": [
              "'Jesse Schule'"
            ]
          },
          "metadata": {
            "tags": []
          }
        },
        {
          "output_type": "display_data",
          "data": {
            "text/plain": [
              "DATE\n",
              "20.11.11    -540\n",
              "20.11.12    -530\n",
              "20.11.13     500\n",
              "20.11.14   -1415\n",
              "20.11.15    1160\n",
              "20.11.16    -550\n",
              "20.11.18     500\n",
              "20.11.19     800\n",
              "20.11.20    -570\n",
              "Name: UNITS, dtype: int64"
            ]
          },
          "metadata": {
            "tags": []
          }
        },
        {
          "output_type": "display_data",
          "data": {
            "image/png": "[encoded data removed]",
            "text/plain": [
              "<Figure size 2520x216 with 1 Axes>"
            ]
          },
          "metadata": {
            "tags": [],
            "needs_background": "light"
          }
        },
        {
          "output_type": "display_data",
          "data": {
            "application/vnd.google.colaboratory.intrinsic+json": {
              "type": "string"
            },
            "text/plain": [
              "'Jockey Club'"
            ]
          },
          "metadata": {
            "tags": []
          }
        },
        {
          "output_type": "display_data",
          "data": {
            "text/plain": [
              "DATE\n",
              "20.09.04      60\n",
              "20.09.10   -1700\n",
              "20.09.18    -290\n",
              "20.10.03    -500\n",
              "20.10.10    1175\n",
              "20.10.17     500\n",
              "20.10.24    -500\n",
              "20.10.30     780\n",
              "20.11.07    1140\n",
              "Name: UNITS, dtype: int64"
            ]
          },
          "metadata": {
            "tags": []
          }
        },
        {
          "output_type": "display_data",
          "data": {
            "image/png": "[encoded data removed]",
            "text/plain": [
              "<Figure size 2520x216 with 1 Axes>"
            ]
          },
          "metadata": {
            "tags": [],
            "needs_background": "light"
          }
        },
        {
          "output_type": "display_data",
          "data": {
            "application/vnd.google.colaboratory.intrinsic+json": {
              "type": "string"
            },
            "text/plain": [
              "'Larry Ness'"
            ]
          },
          "metadata": {
            "tags": []
          }
        },
        {
          "output_type": "display_data",
          "data": {
            "text/plain": [
              "DATE\n",
              "20.11.11    1000\n",
              "20.11.12   -1230\n",
              "20.11.13   -1130\n",
              "20.11.14   -2216\n",
              "20.11.15     792\n",
              "20.11.16   -1100\n",
              "20.11.18   -1150\n",
              "20.11.19    2000\n",
              "20.11.20    1000\n",
              "Name: UNITS, dtype: int64"
            ]
          },
          "metadata": {
            "tags": []
          }
        },
        {
          "output_type": "display_data",
          "data": {
            "image/png": "[encoded data removed]",
            "text/plain": [
              "<Figure size 2520x216 with 1 Axes>"
            ]
          },
          "metadata": {
            "tags": [],
            "needs_background": "light"
          }
        },
        {
          "output_type": "display_data",
          "data": {
            "application/vnd.google.colaboratory.intrinsic+json": {
              "type": "string"
            },
            "text/plain": [
              "'Lee Sterling'"
            ]
          },
          "metadata": {
            "tags": []
          }
        },
        {
          "output_type": "display_data",
          "data": {
            "text/plain": [
              "DATE\n",
              "20.11.08     157\n",
              "20.11.11   -1053\n",
              "20.11.12     900\n",
              "20.11.14    -520\n",
              "20.11.15   -1046\n",
              "20.11.16   -1080\n",
              "20.11.18     900\n",
              "20.11.19     900\n",
              "20.11.20     900\n",
              "Name: UNITS, dtype: int64"
            ]
          },
          "metadata": {
            "tags": []
          }
        },
        {
          "output_type": "display_data",
          "data": {
            "image/png": "[encoded data removed]",
            "text/plain": [
              "<Figure size 2520x216 with 1 Axes>"
            ]
          },
          "metadata": {
            "tags": [],
            "needs_background": "light"
          }
        },
        {
          "output_type": "display_data",
          "data": {
            "application/vnd.google.colaboratory.intrinsic+json": {
              "type": "string"
            },
            "text/plain": [
              "'Marc Lawrence'"
            ]
          },
          "metadata": {
            "tags": []
          }
        },
        {
          "output_type": "display_data",
          "data": {
            "text/plain": [
              "DATE\n",
              "20.11.07    2400\n",
              "20.11.08    1574\n",
              "20.11.12     700\n",
              "20.11.13    -791\n",
              "20.11.14   -2633\n",
              "20.11.15   -1090\n",
              "20.11.16    -770\n",
              "20.11.19     700\n",
              "20.11.20     700\n",
              "Name: UNITS, dtype: int64"
            ]
          },
          "metadata": {
            "tags": []
          }
        },
        {
          "output_type": "display_data",
          "data": {
            "image/png": "[encoded data removed]",
            "text/plain": [
              "<Figure size 2520x216 with 1 Axes>"
            ]
          },
          "metadata": {
            "tags": [],
            "needs_background": "light"
          }
        },
        {
          "output_type": "display_data",
          "data": {
            "application/vnd.google.colaboratory.intrinsic+json": {
              "type": "string"
            },
            "text/plain": [
              "'Matt Fargo'"
            ]
          },
          "metadata": {
            "tags": []
          }
        },
        {
          "output_type": "display_data",
          "data": {
            "text/plain": [
              "DATE\n",
              "20.11.12    1000\n",
              "20.11.13   -1120\n",
              "20.11.14      10\n",
              "20.11.15   -2013\n",
              "20.11.16   -1100\n",
              "20.11.17    1000\n",
              "20.11.18   -1090\n",
              "20.11.19    1000\n",
              "20.11.20    1000\n",
              "Name: UNITS, dtype: int64"
            ]
          },
          "metadata": {
            "tags": []
          }
        },
        {
          "output_type": "display_data",
          "data": {
            "image/png": "[encoded data removed]",
            "text/plain": [
              "<Figure size 2520x216 with 1 Axes>"
            ]
          },
          "metadata": {
            "tags": [],
            "needs_background": "light"
          }
        },
        {
          "output_type": "display_data",
          "data": {
            "application/vnd.google.colaboratory.intrinsic+json": {
              "type": "string"
            },
            "text/plain": [
              "'Mike Lundin'"
            ]
          },
          "metadata": {
            "tags": []
          }
        },
        {
          "output_type": "display_data",
          "data": {
            "text/plain": [
              "DATE\n",
              "20.11.11    -928\n",
              "20.11.12    1000\n",
              "20.11.14   -1904\n",
              "20.11.15   -2964\n",
              "20.11.16     800\n",
              "20.11.17     800\n",
              "20.11.18    -924\n",
              "20.11.19     800\n",
              "20.11.20     800\n",
              "Name: UNITS, dtype: int64"
            ]
          },
          "metadata": {
            "tags": []
          }
        },
        {
          "output_type": "display_data",
          "data": {
            "image/png": "[encoded data removed]",
            "text/plain": [
              "<Figure size 2520x216 with 1 Axes>"
            ]
          },
          "metadata": {
            "tags": [],
            "needs_background": "light"
          }
        },
        {
          "output_type": "display_data",
          "data": {
            "application/vnd.google.colaboratory.intrinsic+json": {
              "type": "string"
            },
            "text/plain": [
              "'Power Sports'"
            ]
          },
          "metadata": {
            "tags": []
          }
        },
        {
          "output_type": "display_data",
          "data": {
            "text/plain": [
              "DATE\n",
              "20.11.12     -90\n",
              "20.11.13    1000\n",
              "20.11.14    -562\n",
              "20.11.15   -1831\n",
              "20.11.16   -1100\n",
              "20.11.17       0\n",
              "20.11.18   -1120\n",
              "20.11.19    1600\n",
              "20.11.20      64\n",
              "Name: UNITS, dtype: int64"
            ]
          },
          "metadata": {
            "tags": []
          }
        },
        {
          "output_type": "display_data",
          "data": {
            "image/png": "[encoded data removed]",
            "text/plain": [
              "<Figure size 2520x216 with 1 Axes>"
            ]
          },
          "metadata": {
            "tags": [],
            "needs_background": "light"
          }
        },
        {
          "output_type": "display_data",
          "data": {
            "application/vnd.google.colaboratory.intrinsic+json": {
              "type": "string"
            },
            "text/plain": [
              "'Ricky Tran'"
            ]
          },
          "metadata": {
            "tags": []
          }
        },
        {
          "output_type": "display_data",
          "data": {
            "text/plain": [
              "DATE\n",
              "20.11.08   -658\n",
              "20.11.09    700\n",
              "20.11.10   -700\n",
              "20.11.11    700\n",
              "20.11.12    700\n",
              "20.11.14   -770\n",
              "20.11.15   -175\n",
              "20.11.19   -847\n",
              "20.11.20   -749\n",
              "Name: UNITS, dtype: int64"
            ]
          },
          "metadata": {
            "tags": []
          }
        },
        {
          "output_type": "display_data",
          "data": {
            "image/png": "[encoded data removed]",
            "text/plain": [
              "<Figure size 2520x216 with 1 Axes>"
            ]
          },
          "metadata": {
            "tags": [],
            "needs_background": "light"
          }
        },
        {
          "output_type": "display_data",
          "data": {
            "application/vnd.google.colaboratory.intrinsic+json": {
              "type": "string"
            },
            "text/plain": [
              "'Scott Rickenbach'"
            ]
          },
          "metadata": {
            "tags": []
          }
        },
        {
          "output_type": "display_data",
          "data": {
            "text/plain": [
              "DATE\n",
              "20.11.12    -140\n",
              "20.11.13   -1100\n",
              "20.11.14    -891\n",
              "20.11.15   -2120\n",
              "20.11.16   -1160\n",
              "20.11.17    1000\n",
              "20.11.18    1000\n",
              "20.11.19     -70\n",
              "20.11.20   -1160\n",
              "Name: UNITS, dtype: int64"
            ]
          },
          "metadata": {
            "tags": []
          }
        },
        {
          "output_type": "display_data",
          "data": {
            "image/png": "[encoded data removed]",
            "text/plain": [
              "<Figure size 2520x216 with 1 Axes>"
            ]
          },
          "metadata": {
            "tags": [],
            "needs_background": "light"
          }
        },
        {
          "output_type": "display_data",
          "data": {
            "application/vnd.google.colaboratory.intrinsic+json": {
              "type": "string"
            },
            "text/plain": [
              "'Soccer Authority'"
            ]
          },
          "metadata": {
            "tags": []
          }
        },
        {
          "output_type": "display_data",
          "data": {
            "text/plain": [
              "DATE\n",
              "20.10.29    1800\n",
              "20.11.03   -1410\n",
              "20.11.04     190\n",
              "20.11.06    -800\n",
              "20.11.07     968\n",
              "20.11.14    1000\n",
              "20.11.15    -900\n",
              "20.11.17    1060\n",
              "20.11.20   -1035\n",
              "Name: UNITS, dtype: int64"
            ]
          },
          "metadata": {
            "tags": []
          }
        },
        {
          "output_type": "display_data",
          "data": {
            "image/png": "[encoded data removed]",
            "text/plain": [
              "<Figure size 2520x216 with 1 Axes>"
            ]
          },
          "metadata": {
            "tags": [],
            "needs_background": "light"
          }
        },
        {
          "output_type": "display_data",
          "data": {
            "application/vnd.google.colaboratory.intrinsic+json": {
              "type": "string"
            },
            "text/plain": [
              "'Sportspicker AI'"
            ]
          },
          "metadata": {
            "tags": []
          }
        },
        {
          "output_type": "display_data",
          "data": {
            "text/plain": [
              "DATE\n",
              "20.10.02       0\n",
              "20.10.04     700\n",
              "20.10.05     816\n",
              "20.10.11     780\n",
              "20.10.18    -792\n",
              "20.10.25    2600\n",
              "20.11.01   -1387\n",
              "20.11.08    1084\n",
              "20.11.15   -1245\n",
              "Name: UNITS, dtype: int64"
            ]
          },
          "metadata": {
            "tags": []
          }
        },
        {
          "output_type": "display_data",
          "data": {
            "image/png": "[encoded data removed]",
            "text/plain": [
              "<Figure size 2520x216 with 1 Axes>"
            ]
          },
          "metadata": {
            "tags": [],
            "needs_background": "light"
          }
        },
        {
          "output_type": "display_data",
          "data": {
            "application/vnd.google.colaboratory.intrinsic+json": {
              "type": "string"
            },
            "text/plain": [
              "'Spread Knowledge'"
            ]
          },
          "metadata": {
            "tags": []
          }
        },
        {
          "output_type": "display_data",
          "data": {
            "text/plain": [
              "DATE\n",
              "20.11.02   -1100\n",
              "20.11.07      52\n",
              "20.11.08   -3956\n",
              "20.11.14    -140\n",
              "20.11.15    3380\n",
              "20.11.16   -1050\n",
              "20.11.18   -1491\n",
              "20.11.19    -735\n",
              "20.11.20    -625\n",
              "Name: UNITS, dtype: int64"
            ]
          },
          "metadata": {
            "tags": []
          }
        },
        {
          "output_type": "display_data",
          "data": {
            "image/png": "[encoded data removed]",
            "text/plain": [
              "<Figure size 2520x216 with 1 Axes>"
            ]
          },
          "metadata": {
            "tags": [],
            "needs_background": "light"
          }
        },
        {
          "output_type": "display_data",
          "data": {
            "application/vnd.google.colaboratory.intrinsic+json": {
              "type": "string"
            },
            "text/plain": [
              "'Tennis Insiders'"
            ]
          },
          "metadata": {
            "tags": []
          }
        },
        {
          "output_type": "display_data",
          "data": {
            "text/plain": [
              "DATE\n",
              "20.11.06    -952\n",
              "20.11.08    -888\n",
              "20.11.10   -1080\n",
              "20.11.11     800\n",
              "20.11.14    -900\n",
              "20.11.16    1600\n",
              "20.11.17    1200\n",
              "20.11.18    -848\n",
              "20.11.19     800\n",
              "Name: UNITS, dtype: int64"
            ]
          },
          "metadata": {
            "tags": []
          }
        },
        {
          "output_type": "display_data",
          "data": {
            "image/png": "[encoded data removed]",
            "text/plain": [
              "<Figure size 2520x216 with 1 Axes>"
            ]
          },
          "metadata": {
            "tags": [],
            "needs_background": "light"
          }
        },
        {
          "output_type": "display_data",
          "data": {
            "application/vnd.google.colaboratory.intrinsic+json": {
              "type": "string"
            },
            "text/plain": [
              "'Teddy Covers'"
            ]
          },
          "metadata": {
            "tags": []
          }
        },
        {
          "output_type": "display_data",
          "data": {
            "text/plain": [
              "DATE\n",
              "20.11.06     800\n",
              "20.11.07    -828\n",
              "20.11.08    3456\n",
              "20.11.11    -880\n",
              "20.11.13    -840\n",
              "20.11.14     628\n",
              "20.11.15     800\n",
              "20.11.16     800\n",
              "20.11.20     800\n",
              "Name: UNITS, dtype: int64"
            ]
          },
          "metadata": {
            "tags": []
          }
        },
        {
          "output_type": "display_data",
          "data": {
            "image/png": "[encoded data removed]",
            "text/plain": [
              "<Figure size 2520x216 with 1 Axes>"
            ]
          },
          "metadata": {
            "tags": [],
            "needs_background": "light"
          }
        },
        {
          "output_type": "display_data",
          "data": {
            "application/vnd.google.colaboratory.intrinsic+json": {
              "type": "string"
            },
            "text/plain": [
              "'Tim Michael'"
            ]
          },
          "metadata": {
            "tags": []
          }
        },
        {
          "output_type": "display_data",
          "data": {
            "text/plain": [
              "DATE\n",
              "20.11.12    -100\n",
              "20.11.13   -1070\n",
              "20.11.14   -2908\n",
              "20.11.15   -1358\n",
              "20.11.16   -1090\n",
              "20.11.17    1000\n",
              "20.11.18    1000\n",
              "20.11.19   -2330\n",
              "20.11.20   -1994\n",
              "Name: UNITS, dtype: int64"
            ]
          },
          "metadata": {
            "tags": []
          }
        },
        {
          "output_type": "display_data",
          "data": {
            "image/png": "[encoded data removed]",
            "text/plain": [
              "<Figure size 2520x216 with 1 Axes>"
            ]
          },
          "metadata": {
            "tags": [],
            "needs_background": "light"
          }
        },
        {
          "output_type": "display_data",
          "data": {
            "application/vnd.google.colaboratory.intrinsic+json": {
              "type": "string"
            },
            "text/plain": [
              "'Will Rogers'"
            ]
          },
          "metadata": {
            "tags": []
          }
        },
        {
          "output_type": "display_data",
          "data": {
            "text/plain": [
              "DATE\n",
              "20.11.12    -100\n",
              "20.11.13   -1170\n",
              "20.11.14     500\n",
              "20.11.15    2700\n",
              "20.11.16   -1180\n",
              "20.11.17    1000\n",
              "20.11.18    1000\n",
              "20.11.19    1000\n",
              "20.11.20    1000\n",
              "Name: UNITS, dtype: int64"
            ]
          },
          "metadata": {
            "tags": []
          }
        },
        {
          "output_type": "display_data",
          "data": {
            "image/png": "[encoded data removed]",
            "text/plain": [
              "<Figure size 2520x216 with 1 Axes>"
            ]
          },
          "metadata": {
            "tags": [],
            "needs_background": "light"
          }
        },
        {
          "output_type": "display_data",
          "data": {
            "application/vnd.google.colaboratory.intrinsic+json": {
              "type": "string"
            },
            "text/plain": [
              "'Anthony Stalter'"
            ]
          },
          "metadata": {
            "tags": []
          }
        },
        {
          "output_type": "display_data",
          "data": {
            "text/plain": [
              "DATE\n",
              "20.11.05    -880\n",
              "20.11.07   -3352\n",
              "20.11.08     520\n",
              "20.11.10    -444\n",
              "20.11.12     800\n",
              "20.11.14    -960\n",
              "20.11.15    -800\n",
              "20.11.18    1600\n",
              "20.11.19     800\n",
              "Name: UNITS, dtype: int64"
            ]
          },
          "metadata": {
            "tags": []
          }
        },
        {
          "output_type": "display_data",
          "data": {
            "image/png": "[encoded data removed]",
            "text/plain": [
              "<Figure size 2520x216 with 1 Axes>"
            ]
          },
          "metadata": {
            "tags": [],
            "needs_background": "light"
          }
        },
        {
          "output_type": "display_data",
          "data": {
            "application/vnd.google.colaboratory.intrinsic+json": {
              "type": "string"
            },
            "text/plain": [
              "'Brad Feinberg'"
            ]
          },
          "metadata": {
            "tags": []
          }
        },
        {
          "output_type": "display_data",
          "data": {
            "text/plain": [
              "DATE\n",
              "20.10.18    1413\n",
              "20.10.24   -2180\n",
              "20.10.25    3265\n",
              "20.11.01    8800\n",
              "20.11.08    4852\n",
              "20.11.09    1900\n",
              "20.11.15   -8068\n",
              "20.11.16    -990\n",
              "20.11.19     900\n",
              "Name: UNITS, dtype: int64"
            ]
          },
          "metadata": {
            "tags": []
          }
        },
        {
          "output_type": "display_data",
          "data": {
            "image/png": "[encoded data removed]",
            "text/plain": [
              "<Figure size 2520x216 with 1 Axes>"
            ]
          },
          "metadata": {
            "tags": [],
            "needs_background": "light"
          }
        },
        {
          "output_type": "display_data",
          "data": {
            "application/vnd.google.colaboratory.intrinsic+json": {
              "type": "string"
            },
            "text/plain": [
              "'Alex B Smith'"
            ]
          },
          "metadata": {
            "tags": []
          }
        },
        {
          "output_type": "display_data",
          "data": {
            "text/plain": [
              "DATE\n",
              "20.10.30    -660\n",
              "20.11.01   -1314\n",
              "20.11.04    -550\n",
              "20.11.07   -1386\n",
              "20.11.08     300\n",
              "20.11.14   -1895\n",
              "20.11.15    -270\n",
              "20.11.19    -636\n",
              "20.11.20     700\n",
              "Name: UNITS, dtype: int64"
            ]
          },
          "metadata": {
            "tags": []
          }
        },
        {
          "output_type": "display_data",
          "data": {
            "image/png": "[encoded data removed]",
            "text/plain": [
              "<Figure size 2520x216 with 1 Axes>"
            ]
          },
          "metadata": {
            "tags": [],
            "needs_background": "light"
          }
        },
        {
          "output_type": "display_data",
          "data": {
            "application/vnd.google.colaboratory.intrinsic+json": {
              "type": "string"
            },
            "text/plain": [
              "'Paul Bovi'"
            ]
          },
          "metadata": {
            "tags": []
          }
        },
        {
          "output_type": "display_data",
          "data": {
            "text/plain": [
              "DATE\n",
              "20.11.09   -1144\n",
              "20.11.10    -854\n",
              "20.11.11     -45\n",
              "20.11.14   -2941\n",
              "20.11.15    2359\n",
              "20.11.16    -912\n",
              "20.11.18     800\n",
              "20.11.19    -918\n",
              "20.11.20    -230\n",
              "Name: UNITS, dtype: int64"
            ]
          },
          "metadata": {
            "tags": []
          }
        },
        {
          "output_type": "display_data",
          "data": {
            "image/png": "[encoded data removed]",
            "text/plain": [
              "<Figure size 2520x216 with 1 Axes>"
            ]
          },
          "metadata": {
            "tags": [],
            "needs_background": "light"
          }
        },
        {
          "output_type": "display_data",
          "data": {
            "application/vnd.google.colaboratory.intrinsic+json": {
              "type": "string"
            },
            "text/plain": [
              "'Jazz Ray'"
            ]
          },
          "metadata": {
            "tags": []
          }
        },
        {
          "output_type": "display_data",
          "data": {
            "text/plain": [
              "DATE\n",
              "20.11.11   -4126\n",
              "20.11.13    1000\n",
              "20.11.14   -3448\n",
              "20.11.15    -811\n",
              "20.11.16    1900\n",
              "20.11.17     783\n",
              "20.11.18    -260\n",
              "20.11.19    2000\n",
              "20.11.20   -2090\n",
              "Name: UNITS, dtype: int64"
            ]
          },
          "metadata": {
            "tags": []
          }
        }
      ]
    },
    {
      "cell_type": "code",
      "metadata": {
        "id": "XHYn-HfoLicc"
      },
      "source": [
        "#на один раз\n",
        "www='https://experts.covers.com'\n",
        "cappers=soup.find_all(class_='cmg_l_col cmg_l_span_9')\n",
        "links={}\n",
        "for l in cappers:\n",
        "  cap_link=l.find(class_='capper_name').get('href')\n",
        "  cap_name=l.find(class_='capper_name').get_text()\n",
        "  links[cap_name]=www+cap_link"
      ],
      "execution_count": null,
      "outputs": []
    },
    {
      "cell_type": "code",
      "metadata": {
        "id": "0IJN_4FsAex4",
        "colab": {
          "base_uri": "https://localhost:8080/",
          "height": 51
        },
        "outputId": "fb922acc-72ff-43c9-f7dd-91c30a39885e"
      },
      "source": [
        "rr = requests.get('https://experts.covers.com/Handicapper/Ben_Burns', headers=headers)\n",
        "ss = BeautifulSoup(rr.text, 'html.parser')\n",
        "det=ss.find('table').find_all('a')\n",
        "details=list(det)\n",
        "for el in details:\n",
        "  if el.get_text().split(' ')[0] in ['Under','Over','Both']:\n",
        "    link=el.get('href')\n",
        "    pick = requests.get(www+link, headers=headers)\n",
        "    pick_soup=BeautifulSoup(pick.text,'html.parser')\n",
        "    pick_unit=pick_soup.find(class_='covers-CoversExpertsDetails-h4').get_text()\n",
        "    if pick_unit[0]=='(':\n",
        "        pick_unit=' '.join(pick_unit.split(' ')[1:-1])\n",
        "    print(f\"{el.get_text()}. {pick_unit}\")"
      ],
      "execution_count": null,
      "outputs": [
        {
          "output_type": "stream",
          "text": [
            "Under  (1st H). San Francisco  vs.  Kansas City\n",
            "Under . San Francisco  vs.  Kansas City\n"
          ],
          "name": "stdout"
        }
      ]
    },
    {
      "cell_type": "code",
      "metadata": {
        "id": "Gq3AkwT1o8MG"
      },
      "source": [
        "#удаление дубликатов\n",
        "for capper in cappers.keys():\n",
        "  filename=capper+'.csv'\n",
        "  cap=pd.read_csv(path+filename)\n",
        "  cap.drop_duplicates(inplace=True)\n",
        "  display(cap)\n",
        "  cap.to_csv(path+filename,encoding=\"cp1251\",index=False)"
      ],
      "execution_count": null,
      "outputs": []
    },
    {
      "cell_type": "code",
      "metadata": {
        "id": "eWylQph9KKNH",
        "colab": {
          "base_uri": "https://localhost:8080/",
          "height": 70
        },
        "outputId": "41136054-fd3d-4a53-db02-4efbd8ba0b84"
      },
      "source": [
        "#Всех капперов в новые файлы\n",
        "def date_corr(row):\n",
        "    d=dt.strptime(row['DATE']+' 20','%b %d %y')\n",
        "    row['DATE']=d.strftime('%y.%m.%d')\n",
        "    return row\n",
        "cappers={'Esports Edge': 'https://experts.covers.com/handicapper/esports_edge',\n",
        "         'Jockey Club': 'https://experts.covers.com/handicapper/jockey_club'}\n",
        "try:\n",
        "  for capper,link in cappers.items():\n",
        "    cap=pd.read_html(link)\n",
        "    sports=pd.DataFrame(columns=['Capper','DATE','W/L','League','PICK','UNITS'])\n",
        "    for i in range(1,len(cap)):\n",
        "      cap[i].insert(0,'Capper',capper)\n",
        "      cap[i]=cap[i].apply(date_corr,axis=1)\n",
        "      sports=sports.append(cap[i])\n",
        "    sports=sports.sort_values(by='DATE')\n",
        "    sports.to_csv(path+capper+'.csv',encoding=\"cp1251\",index=False)\n",
        "    display(capper)\n",
        "    time.sleep(11)\n",
        "except ValueError:\n",
        "  pass\n",
        "display('ГОТОВО')"
      ],
      "execution_count": null,
      "outputs": [
        {
          "output_type": "display_data",
          "data": {
            "text/plain": [
              "'Esports Edge'"
            ]
          },
          "metadata": {
            "tags": []
          }
        },
        {
          "output_type": "display_data",
          "data": {
            "text/plain": [
              "'Jockey Club'"
            ]
          },
          "metadata": {
            "tags": []
          }
        },
        {
          "output_type": "display_data",
          "data": {
            "text/plain": [
              "'ГОТОВО'"
            ]
          },
          "metadata": {
            "tags": []
          }
        }
      ]
    },
    {
      "cell_type": "code",
      "metadata": {
        "id": "fOuvWjTJxRZy"
      },
      "source": [
        "#OLD VERSION\n",
        "#Обновление\n",
        "def date_corr(row):\n",
        "    d=dt.strptime(row['DATE']+' 20','%b %d %y')\n",
        "    row['DATE']=d.strftime('%y.%m.%d')\n",
        "    pik=row['PICK'].split(' ')[0].strip()\n",
        "    if pik in ['Under','Over','Both']:\n",
        "      el=details[i]\n",
        "      link1=el.get('href')\n",
        "      pick = requests.get(www+link1, headers=headers)\n",
        "      pick_soup=BeautifulSoup(pick.text,'html.parser')\n",
        "      pick_unit=pick_soup.find(class_='covers-CoversExpertsDetails-h4').get_text()\n",
        "      if pick_unit[0]=='(':\n",
        "        pick_unit=' '.join(pick_unit.split(' ')[1:-1])\n",
        "      row['PICK']=f\"{pik}. {pick_unit}\"\n",
        "    return row\n",
        "#cappers={'Lee Sterling':'https://experts.covers.com/handicapper/lee_sterling'}\n",
        "try:\n",
        "  dd=dt.now()\n",
        "  dd-=td(days=1)\n",
        "  dat=dd.strftime('%y.%m.%d')\n",
        "  #dat='20.08.01'\n",
        "  print(dat)\n",
        "  for capper,link.lower() in list(cappers.items()):\n",
        "    cap=pd.read_html(link)\n",
        "    rr = requests.get(link, headers=headers)\n",
        "    ss = BeautifulSoup(rr.text, 'html.parser')\n",
        "    det=ss.find('table').find_all('a')\n",
        "    details=list(det)\n",
        "    sports=pd.DataFrame(columns=['Capper','DATE','W/L','League','PICK','UNITS'])\n",
        "    for i in range(1,len(cap)):\n",
        "      if len(cap[i])>1:\n",
        "        cap[i].insert(0,'Capper',capper)\n",
        "        cap[i]=cap[i].apply(date_corr,axis=1)\n",
        "        sports=sports.append(cap[i])\n",
        "    sports_new=sports.query(\"DATE=='{}'\".format(dat))\n",
        "    if len(sports_new)>0:\n",
        "      display(capper)\n",
        "      #sports_new.to_csv(path+capper+'.csv',mode='a',encoding=\"cp1251\",index=False,header=False)\n",
        "    time.sleep(11)\n",
        "except ValueError:\n",
        "  print('Error',i,capper)\n",
        "display('ГОТОВО')"
      ],
      "execution_count": null,
      "outputs": []
    }
  ]
}